{
 "cells": [
  {
   "cell_type": "markdown",
   "metadata": {},
   "source": [
    "# Gesture Recognition\n",
    "In this group project, you are going to build a 3D Conv model that will be able to predict the 5 gestures correctly. Please import the following libraries to get started. Once you have completed the code you can download the notebook for making a submission."
   ]
  },
  {
   "cell_type": "code",
   "execution_count": 1,
   "metadata": {},
   "outputs": [],
   "source": [
    "import numpy as np\n",
    "import os\n",
    "from imageio import imread\n",
    "from skimage.transform import resize\n",
    "import matplotlib.pyplot as plt\n",
    "import datetime\n",
    "from keras.layers import Conv2D,MaxPooling2D\n",
    "from keras.models import Sequential, Model\n",
    "from keras.layers import Dense, GRU, Flatten, TimeDistributed, Flatten, BatchNormalization, Activation\n",
    "from keras.layers.convolutional import Conv3D, MaxPooling3D\n",
    "from keras.callbacks import ModelCheckpoint, ReduceLROnPlateau\n",
    "from keras import optimizers\n",
    "from keras.layers import Dropout\n",
    "from keras.layers.recurrent import LSTM\n",
    "import os"
   ]
  },
  {
   "cell_type": "markdown",
   "metadata": {},
   "source": [
    "We set the random seed so that the results don't vary drastically."
   ]
  },
  {
   "cell_type": "code",
   "execution_count": 2,
   "metadata": {},
   "outputs": [],
   "source": [
    "np.random.seed(30)\n",
    "import random as rn\n",
    "rn.seed(30)\n",
    "from tensorflow import keras\n",
    "import tensorflow as tf\n",
    "tf.random.set_seed(30)"
   ]
  },
  {
   "cell_type": "markdown",
   "metadata": {},
   "source": [
    "In this block, you read the folder names for training and validation. You also set the `batch_size` here. Note that you set the batch size in such a way that you are able to use the GPU in full capacity. You keep increasing the batch size until the machine throws an error."
   ]
  },
  {
   "cell_type": "markdown",
   "metadata": {},
   "source": [
    "**data path: /home/datasets/Project_data**"
   ]
  },
  {
   "cell_type": "code",
   "execution_count": 3,
   "metadata": {},
   "outputs": [],
   "source": [
    "train_doc = np.random.permutation(open('/home/datasets/Project_data/train.csv').readlines())\n",
    "val_doc = np.random.permutation(open('/home/datasets/Project_data/val.csv').readlines())\n",
    "batch_size =20 #experiment with the batch size"
   ]
  },
  {
   "cell_type": "code",
   "execution_count": 4,
   "metadata": {},
   "outputs": [
    {
     "data": {
      "text/plain": [
       "(663, 100)"
      ]
     },
     "execution_count": 4,
     "metadata": {},
     "output_type": "execute_result"
    }
   ],
   "source": [
    "len(train_doc),len(val_doc)"
   ]
  },
  {
   "cell_type": "markdown",
   "metadata": {},
   "source": [
    "## Generator\n",
    "This is one of the most important part of the code. The overall structure of the generator has been given. In the generator, you are going to preprocess the images as you have images of 2 different dimensions as well as create a batch of video frames. You have to experiment with `img_idx`, `y`,`z` and normalization such that you get high accuracy."
   ]
  },
  {
   "cell_type": "code",
   "execution_count": 5,
   "metadata": {},
   "outputs": [],
   "source": [
    "def generator(source_path, folder_list, batch_size):\n",
    "    print( 'Source path = ', source_path, '; batch size =', batch_size)\n",
    "    img_idx = [2,4,6,8,10,12,14,16,18,20,22,24,26] #create a list of image numbers you want to use for a particular video\n",
    "    while True:\n",
    "        t = np.random.permutation(folder_list)\n",
    "        num_batches = len(t) // batch_size # calculate the number of batches\n",
    "        for batch in range(num_batches): # we iterate over the number of batches\n",
    "            batch_data = np.zeros((batch_size,13,80,80,3)) # x is the number of images you use for each video, (y,z) is the final size of the input images and 3 is the number of channels RGB\n",
    "            batch_labels = np.zeros((batch_size,5)) # batch_labels is the one hot representation of the output\n",
    "            for folder in range(batch_size): # iterate over the batch_size\n",
    "                imgs = os.listdir(source_path+'/'+ t[folder + (batch*batch_size)].split(';')[0]) # read all the images in the folder\n",
    "                for idx,item in enumerate(img_idx): #  Iterate iver the frames/images of a folder to read them in\n",
    "                    image = imread(source_path+'/'+ t[folder + (batch*batch_size)].strip().split(';')[0]+'/'+imgs[item]).astype(np.float32)\n",
    "                    \n",
    "                    #crop the images and resize them. Note that the images are of 2 different shape \n",
    "                    image = resize(image,(80,80)).astype(np.float32)\n",
    "                    #and the conv3D will throw error if the inputs in a batch have different shapes\n",
    "                    \n",
    "                    batch_data[folder,idx,:,:,0] = (image[:,:,0])/255  #normalise and feed in the image\n",
    "                    batch_data[folder,idx,:,:,1] = (image[:,:,1])/255  #normalise and feed in the image\n",
    "                    batch_data[folder,idx,:,:,2] = (image[:,:,2])/255  #normalise and feed in the image\n",
    "                    \n",
    "                batch_labels[folder, int(t[folder + (batch*batch_size)].strip().split(';')[2])] = 1\n",
    "            yield batch_data, batch_labels #you yield the batch_data and the batch_labels, remember what does yield do\n",
    "\n",
    "        \n",
    "        # write the code for the remaining data points which are left after full batches\n",
    "        if len(t) % batch_size != 0:\n",
    "            batch_data = np.zeros((batch_size,13,80,80,3)) \n",
    "            batch_labels = np.zeros((batch_size,5)) # batch_labels is the one hot representation of the output\n",
    "            for folder in range(batch_size): # iterate over the batch_size\n",
    "                imgs = os.listdir(source_path+'/'+ t[folder + (batch*batch_size)].split(';')[0]) # read all the images in the folder\n",
    "                for idx,item in enumerate(img_idx): #  Iterate iver the frames/images of a folder to read them in\n",
    "                    image = imread(source_path+'/'+ t[folder + (batch*batch_size)].strip().split(';')[0]+'/'+imgs[item]).astype(np.float32)\n",
    "                    image = resize(image,(80,80)).astype(np.float32)\n",
    "                    batch_data[folder,idx,:,:,0] = (image[:,:,0])/255\n",
    "                    batch_data[folder,idx,:,:,1] = (image[:,:,1])/255\n",
    "                    batch_data[folder,idx,:,:,2] = (image[:,:,2])/255\n",
    "                batch_labels[folder, int(t[folder + (batch*batch_size)].strip().split(';')[2])] = 1 \n",
    "            yield batch_data, batch_labels #you yield the batch_data and the batch_labels, remember what does yield does "
   ]
  },
  {
   "cell_type": "markdown",
   "metadata": {},
   "source": [
    "Note here that a video is represented above in the generator as (number of images, height, width, number of channels). Take this into consideration while creating the model architecture."
   ]
  },
  {
   "cell_type": "code",
   "execution_count": 6,
   "metadata": {},
   "outputs": [
    {
     "name": "stdout",
     "output_type": "stream",
     "text": [
      "# training sequences = 663\n",
      "# validation sequences = 100\n",
      "# epochs = 20\n"
     ]
    }
   ],
   "source": [
    "curr_dt_time = datetime.datetime.now()\n",
    "train_path = '/home/datasets/Project_data/train'\n",
    "val_path = '/home/datasets/Project_data/val'\n",
    "num_train_sequences = len(train_doc)\n",
    "print('# training sequences =', num_train_sequences)\n",
    "num_val_sequences = len(val_doc)\n",
    "print('# validation sequences =', num_val_sequences)\n",
    "num_epochs = 20 # choose the number of epochs\n",
    "print ('# epochs =', num_epochs)"
   ]
  },
  {
   "cell_type": "markdown",
   "metadata": {},
   "source": [
    "## Model\n",
    "Here you make the model using different functionalities that Keras provides. Remember to use `Conv3D` and `MaxPooling3D` and not `Conv2D` and `Maxpooling2D` for a 3D convolution model. You would want to use `TimeDistributed` while building a Conv2D + RNN model. Also remember that the last layer is the softmax. Design the network in such a way that the model is able to give good accuracy on the least number of parameters so that it can fit in the memory of the webcam."
   ]
  },
  {
   "cell_type": "markdown",
   "metadata": {},
   "source": [
    "# Model 1"
   ]
  },
  {
   "cell_type": "markdown",
   "metadata": {},
   "source": [
    "### This is 3D CNN architecture to process the video frames. It has 2 Convlolution layers with 16 and 32 kernels of (3x3x3) and image size 80x80"
   ]
  },
  {
   "cell_type": "code",
   "execution_count": 7,
   "metadata": {},
   "outputs": [
    {
     "name": "stderr",
     "output_type": "stream",
     "text": [
      "2025-03-31 16:16:19.660783: W tensorflow/core/common_runtime/gpu/gpu_bfc_allocator.cc:39] Overriding allow_growth setting because the TF_FORCE_GPU_ALLOW_GROWTH environment variable is set. Original config value was 0.\n",
      "2025-03-31 16:16:19.660857: I tensorflow/core/common_runtime/gpu/gpu_device.cc:1525] Created device /job:localhost/replica:0/task:0/device:GPU:0 with 22666 MB memory:  -> device: 0, name: Quadro RTX 6000, pci bus id: 0000:40:00.0, compute capability: 7.5\n"
     ]
    }
   ],
   "source": [
    "\n",
    "\n",
    "#write your model here\n",
    "model = Sequential()\n",
    "model.add(Conv3D(16, (3, 3, 3), padding='same',\n",
    "         input_shape=(13,80,80,3)))\n",
    "model.add(Activation('relu'))\n",
    "model.add(BatchNormalization())\n",
    "model.add(MaxPooling3D(pool_size=(2, 2, 2)))\n",
    "\n",
    "model.add(Conv3D(32, (3, 3, 3), padding='same'))\n",
    "model.add(Activation('relu'))\n",
    "model.add(BatchNormalization())\n",
    "model.add(MaxPooling3D(pool_size=(2, 2, 2)))\n",
    "\n",
    "\n",
    "model.add(Flatten())\n",
    "model.add(Dense(64,activation='relu'))\n",
    "model.add(BatchNormalization())\n",
    "model.add(Dropout(0.25))\n",
    "\n",
    "model.add(Dense(64,activation='relu'))\n",
    "model.add(BatchNormalization())\n",
    "model.add(Dropout(0.25))\n",
    "\n",
    "model.add(Dense(5,activation='softmax'))"
   ]
  },
  {
   "cell_type": "markdown",
   "metadata": {},
   "source": [
    "Now that you have written the model, the next step is to `compile` the model. When you print the `summary` of the model, you'll see the total number of parameters you have to train."
   ]
  },
  {
   "cell_type": "code",
   "execution_count": 8,
   "metadata": {
    "scrolled": true
   },
   "outputs": [
    {
     "name": "stdout",
     "output_type": "stream",
     "text": [
      "Model: \"sequential\"\n",
      "_________________________________________________________________\n",
      " Layer (type)                Output Shape              Param #   \n",
      "=================================================================\n",
      " conv3d (Conv3D)             (None, 13, 80, 80, 16)    1312      \n",
      "                                                                 \n",
      " activation (Activation)     (None, 13, 80, 80, 16)    0         \n",
      "                                                                 \n",
      " batch_normalization (BatchN  (None, 13, 80, 80, 16)   64        \n",
      " ormalization)                                                   \n",
      "                                                                 \n",
      " max_pooling3d (MaxPooling3D  (None, 6, 40, 40, 16)    0         \n",
      " )                                                               \n",
      "                                                                 \n",
      " conv3d_1 (Conv3D)           (None, 6, 40, 40, 32)     13856     \n",
      "                                                                 \n",
      " activation_1 (Activation)   (None, 6, 40, 40, 32)     0         \n",
      "                                                                 \n",
      " batch_normalization_1 (Batc  (None, 6, 40, 40, 32)    128       \n",
      " hNormalization)                                                 \n",
      "                                                                 \n",
      " max_pooling3d_1 (MaxPooling  (None, 3, 20, 20, 32)    0         \n",
      " 3D)                                                             \n",
      "                                                                 \n",
      " flatten (Flatten)           (None, 38400)             0         \n",
      "                                                                 \n",
      " dense (Dense)               (None, 64)                2457664   \n",
      "                                                                 \n",
      " batch_normalization_2 (Batc  (None, 64)               256       \n",
      " hNormalization)                                                 \n",
      "                                                                 \n",
      " dropout (Dropout)           (None, 64)                0         \n",
      "                                                                 \n",
      " dense_1 (Dense)             (None, 64)                4160      \n",
      "                                                                 \n",
      " batch_normalization_3 (Batc  (None, 64)               256       \n",
      " hNormalization)                                                 \n",
      "                                                                 \n",
      " dropout_1 (Dropout)         (None, 64)                0         \n",
      "                                                                 \n",
      " dense_2 (Dense)             (None, 5)                 325       \n",
      "                                                                 \n",
      "=================================================================\n",
      "Total params: 2,478,021\n",
      "Trainable params: 2,477,669\n",
      "Non-trainable params: 352\n",
      "_________________________________________________________________\n",
      "None\n"
     ]
    }
   ],
   "source": [
    "optimiser = 'sgd'\n",
    "model.compile(optimizer=optimiser, loss='categorical_crossentropy', metrics=['categorical_accuracy'])\n",
    "print (model.summary())"
   ]
  },
  {
   "cell_type": "markdown",
   "metadata": {},
   "source": [
    "Let us create the `train_generator` and the `val_generator` which will be used in `.fit_generator`."
   ]
  },
  {
   "cell_type": "code",
   "execution_count": 9,
   "metadata": {},
   "outputs": [],
   "source": [
    "train_generator = generator(train_path, train_doc, batch_size)\n",
    "val_generator = generator(val_path, val_doc, batch_size)"
   ]
  },
  {
   "cell_type": "code",
   "execution_count": 10,
   "metadata": {},
   "outputs": [],
   "source": [
    "# Define model name and create directory if it doesn't exist\n",
    "model_name = 'model_init' + '_' + str(curr_dt_time).replace(' ', '').replace(':', '_') + '/'\n",
    "\n",
    "if not os.path.exists(model_name):\n",
    "    os.mkdir(model_name)\n",
    "\n",
    "# Define the filepath for saving the model\n",
    "filepath = model_name + 'model-{epoch:05d}-{loss:.5f}-{categorical_accuracy:.5f}-{val_loss:.5f}-{val_categorical_accuracy:.5f}.h5'\n",
    "\n",
    "# Define the ModelCheckpoint callback\n",
    "checkpoint = ModelCheckpoint(filepath, monitor='val_loss', verbose=1, save_best_only=False, save_weights_only=False, mode='auto', save_freq='epoch')\n",
    "\n",
    "# Define the ReduceLROnPlateau callback\n",
    "LR = ReduceLROnPlateau(monitor='val_loss', factor=0.2, verbose=1, patience=4)\n",
    "\n",
    "# List of callbacks\n",
    "callbacks_list = [checkpoint, LR]"
   ]
  },
  {
   "cell_type": "markdown",
   "metadata": {},
   "source": [
    "The `steps_per_epoch` and `validation_steps` are used by `fit` method to decide the number of next() calls it need to make."
   ]
  },
  {
   "cell_type": "code",
   "execution_count": 11,
   "metadata": {},
   "outputs": [],
   "source": [
    "if (num_train_sequences%batch_size) == 0:\n",
    "    steps_per_epoch = int(num_train_sequences/batch_size)\n",
    "else:\n",
    "    steps_per_epoch = (num_train_sequences//batch_size) + 1\n",
    "\n",
    "if (num_val_sequences%batch_size) == 0:\n",
    "    validation_steps = int(num_val_sequences/batch_size)\n",
    "else:\n",
    "    validation_steps = (num_val_sequences//batch_size) + 1"
   ]
  },
  {
   "cell_type": "markdown",
   "metadata": {},
   "source": [
    "Let us now fit the model. This will start training the model and with the help of the checkpoints, you'll be able to save the model at the end of each epoch."
   ]
  },
  {
   "cell_type": "code",
   "execution_count": 12,
   "metadata": {},
   "outputs": [
    {
     "name": "stdout",
     "output_type": "stream",
     "text": [
      "Source path =  /home/datasets/Project_data/train ; batch size = 20\n",
      "Epoch 1/20\n"
     ]
    },
    {
     "name": "stderr",
     "output_type": "stream",
     "text": [
      "2025-03-31 16:17:03.922054: I tensorflow/stream_executor/cuda/cuda_dnn.cc:377] Loaded cuDNN version 8302\n"
     ]
    },
    {
     "name": "stdout",
     "output_type": "stream",
     "text": [
      "34/34 [==============================] - ETA: 0s - loss: 1.6046 - categorical_accuracy: 0.3794Source path =  /home/datasets/Project_data/val ; batch size = 20\n",
      "\n",
      "Epoch 00001: saving model to model_init_2025-03-3116_16_10.181665/model-00001-1.60456-0.37941-1.71951-0.21000.h5\n",
      "34/34 [==============================] - 70s 2s/step - loss: 1.6046 - categorical_accuracy: 0.3794 - val_loss: 1.7195 - val_categorical_accuracy: 0.2100 - lr: 0.0100\n",
      "Epoch 2/20\n",
      "34/34 [==============================] - ETA: 0s - loss: 1.1619 - categorical_accuracy: 0.5426\n",
      "Epoch 00002: saving model to model_init_2025-03-3116_16_10.181665/model-00002-1.16189-0.54265-2.41399-0.19000.h5\n",
      "34/34 [==============================] - 68s 2s/step - loss: 1.1619 - categorical_accuracy: 0.5426 - val_loss: 2.4140 - val_categorical_accuracy: 0.1900 - lr: 0.0100\n",
      "Epoch 3/20\n",
      "34/34 [==============================] - ETA: 0s - loss: 0.9815 - categorical_accuracy: 0.6353\n",
      "Epoch 00003: saving model to model_init_2025-03-3116_16_10.181665/model-00003-0.98155-0.63529-3.99112-0.22000.h5\n",
      "34/34 [==============================] - 68s 2s/step - loss: 0.9815 - categorical_accuracy: 0.6353 - val_loss: 3.9911 - val_categorical_accuracy: 0.2200 - lr: 0.0100\n",
      "Epoch 4/20\n",
      "34/34 [==============================] - ETA: 0s - loss: 0.7155 - categorical_accuracy: 0.7353\n",
      "Epoch 00004: saving model to model_init_2025-03-3116_16_10.181665/model-00004-0.71546-0.73529-4.77505-0.17000.h5\n",
      "34/34 [==============================] - 69s 2s/step - loss: 0.7155 - categorical_accuracy: 0.7353 - val_loss: 4.7751 - val_categorical_accuracy: 0.1700 - lr: 0.0100\n",
      "Epoch 5/20\n",
      "34/34 [==============================] - ETA: 0s - loss: 0.5987 - categorical_accuracy: 0.7868\n",
      "Epoch 00005: saving model to model_init_2025-03-3116_16_10.181665/model-00005-0.59868-0.78676-5.92589-0.17000.h5\n",
      "\n",
      "Epoch 00005: ReduceLROnPlateau reducing learning rate to 0.0019999999552965165.\n",
      "34/34 [==============================] - 68s 2s/step - loss: 0.5987 - categorical_accuracy: 0.7868 - val_loss: 5.9259 - val_categorical_accuracy: 0.1700 - lr: 0.0100\n",
      "Epoch 6/20\n",
      "34/34 [==============================] - ETA: 0s - loss: 0.4727 - categorical_accuracy: 0.8456\n",
      "Epoch 00006: saving model to model_init_2025-03-3116_16_10.181665/model-00006-0.47267-0.84559-6.93354-0.19000.h5\n",
      "34/34 [==============================] - 68s 2s/step - loss: 0.4727 - categorical_accuracy: 0.8456 - val_loss: 6.9335 - val_categorical_accuracy: 0.1900 - lr: 0.0020\n",
      "Epoch 7/20\n",
      "34/34 [==============================] - ETA: 0s - loss: 0.4092 - categorical_accuracy: 0.8618\n",
      "Epoch 00007: saving model to model_init_2025-03-3116_16_10.181665/model-00007-0.40920-0.86176-6.48595-0.19000.h5\n",
      "34/34 [==============================] - 68s 2s/step - loss: 0.4092 - categorical_accuracy: 0.8618 - val_loss: 6.4859 - val_categorical_accuracy: 0.1900 - lr: 0.0020\n",
      "Epoch 8/20\n",
      "34/34 [==============================] - ETA: 0s - loss: 0.3309 - categorical_accuracy: 0.8926\n",
      "Epoch 00008: saving model to model_init_2025-03-3116_16_10.181665/model-00008-0.33085-0.89265-6.53550-0.11000.h5\n",
      "34/34 [==============================] - 68s 2s/step - loss: 0.3309 - categorical_accuracy: 0.8926 - val_loss: 6.5355 - val_categorical_accuracy: 0.1100 - lr: 0.0020\n",
      "Epoch 9/20\n",
      "34/34 [==============================] - ETA: 0s - loss: 0.3153 - categorical_accuracy: 0.9147\n",
      "Epoch 00009: saving model to model_init_2025-03-3116_16_10.181665/model-00009-0.31531-0.91471-5.05675-0.22000.h5\n",
      "\n",
      "Epoch 00009: ReduceLROnPlateau reducing learning rate to 0.0003999999724328518.\n",
      "34/34 [==============================] - 68s 2s/step - loss: 0.3153 - categorical_accuracy: 0.9147 - val_loss: 5.0567 - val_categorical_accuracy: 0.2200 - lr: 0.0020\n",
      "Epoch 10/20\n",
      "34/34 [==============================] - ETA: 0s - loss: 0.2986 - categorical_accuracy: 0.9191\n",
      "Epoch 00010: saving model to model_init_2025-03-3116_16_10.181665/model-00010-0.29858-0.91912-5.21590-0.19000.h5\n",
      "34/34 [==============================] - 69s 2s/step - loss: 0.2986 - categorical_accuracy: 0.9191 - val_loss: 5.2159 - val_categorical_accuracy: 0.1900 - lr: 4.0000e-04\n",
      "Epoch 11/20\n",
      "34/34 [==============================] - ETA: 0s - loss: 0.2999 - categorical_accuracy: 0.9074\n",
      "Epoch 00011: saving model to model_init_2025-03-3116_16_10.181665/model-00011-0.29991-0.90735-4.02051-0.30000.h5\n",
      "34/34 [==============================] - 69s 2s/step - loss: 0.2999 - categorical_accuracy: 0.9074 - val_loss: 4.0205 - val_categorical_accuracy: 0.3000 - lr: 4.0000e-04\n",
      "Epoch 12/20\n",
      "34/34 [==============================] - ETA: 0s - loss: 0.2988 - categorical_accuracy: 0.9176\n",
      "Epoch 00012: saving model to model_init_2025-03-3116_16_10.181665/model-00012-0.29884-0.91765-3.44104-0.30000.h5\n",
      "34/34 [==============================] - 69s 2s/step - loss: 0.2988 - categorical_accuracy: 0.9176 - val_loss: 3.4410 - val_categorical_accuracy: 0.3000 - lr: 4.0000e-04\n",
      "Epoch 13/20\n",
      "34/34 [==============================] - ETA: 0s - loss: 0.2612 - categorical_accuracy: 0.9265\n",
      "Epoch 00013: saving model to model_init_2025-03-3116_16_10.181665/model-00013-0.26120-0.92647-2.84066-0.33000.h5\n",
      "\n",
      "Epoch 00013: ReduceLROnPlateau reducing learning rate to 7.999999215826393e-05.\n",
      "34/34 [==============================] - 68s 2s/step - loss: 0.2612 - categorical_accuracy: 0.9265 - val_loss: 2.8407 - val_categorical_accuracy: 0.3300 - lr: 4.0000e-04\n",
      "Epoch 14/20\n",
      "34/34 [==============================] - ETA: 0s - loss: 0.3048 - categorical_accuracy: 0.8941\n",
      "Epoch 00014: saving model to model_init_2025-03-3116_16_10.181665/model-00014-0.30482-0.89412-2.10034-0.38000.h5\n",
      "34/34 [==============================] - 69s 2s/step - loss: 0.3048 - categorical_accuracy: 0.8941 - val_loss: 2.1003 - val_categorical_accuracy: 0.3800 - lr: 8.0000e-05\n",
      "Epoch 15/20\n",
      "34/34 [==============================] - ETA: 0s - loss: 0.2803 - categorical_accuracy: 0.9176\n",
      "Epoch 00015: saving model to model_init_2025-03-3116_16_10.181665/model-00015-0.28030-0.91765-1.76292-0.45000.h5\n",
      "34/34 [==============================] - 68s 2s/step - loss: 0.2803 - categorical_accuracy: 0.9176 - val_loss: 1.7629 - val_categorical_accuracy: 0.4500 - lr: 8.0000e-05\n",
      "Epoch 16/20\n",
      "34/34 [==============================] - ETA: 0s - loss: 0.3105 - categorical_accuracy: 0.9000\n",
      "Epoch 00016: saving model to model_init_2025-03-3116_16_10.181665/model-00016-0.31047-0.90000-1.35577-0.53000.h5\n",
      "34/34 [==============================] - 70s 2s/step - loss: 0.3105 - categorical_accuracy: 0.9000 - val_loss: 1.3558 - val_categorical_accuracy: 0.5300 - lr: 8.0000e-05\n",
      "Epoch 17/20\n",
      "34/34 [==============================] - ETA: 0s - loss: 0.2780 - categorical_accuracy: 0.9265\n",
      "Epoch 00017: saving model to model_init_2025-03-3116_16_10.181665/model-00017-0.27802-0.92647-1.07615-0.63000.h5\n",
      "34/34 [==============================] - 70s 2s/step - loss: 0.2780 - categorical_accuracy: 0.9265 - val_loss: 1.0762 - val_categorical_accuracy: 0.6300 - lr: 8.0000e-05\n",
      "Epoch 18/20\n",
      "34/34 [==============================] - ETA: 0s - loss: 0.2860 - categorical_accuracy: 0.9044\n",
      "Epoch 00018: saving model to model_init_2025-03-3116_16_10.181665/model-00018-0.28598-0.90441-0.83746-0.69000.h5\n",
      "34/34 [==============================] - 70s 2s/step - loss: 0.2860 - categorical_accuracy: 0.9044 - val_loss: 0.8375 - val_categorical_accuracy: 0.6900 - lr: 8.0000e-05\n",
      "Epoch 19/20\n",
      "34/34 [==============================] - ETA: 0s - loss: 0.2853 - categorical_accuracy: 0.9191\n",
      "Epoch 00019: saving model to model_init_2025-03-3116_16_10.181665/model-00019-0.28527-0.91912-0.82703-0.69000.h5\n",
      "34/34 [==============================] - 69s 2s/step - loss: 0.2853 - categorical_accuracy: 0.9191 - val_loss: 0.8270 - val_categorical_accuracy: 0.6900 - lr: 8.0000e-05\n",
      "Epoch 20/20\n",
      "34/34 [==============================] - ETA: 0s - loss: 0.3082 - categorical_accuracy: 0.9044\n",
      "Epoch 00020: saving model to model_init_2025-03-3116_16_10.181665/model-00020-0.30822-0.90441-0.62434-0.73000.h5\n",
      "34/34 [==============================] - 70s 2s/step - loss: 0.3082 - categorical_accuracy: 0.9044 - val_loss: 0.6243 - val_categorical_accuracy: 0.7300 - lr: 8.0000e-05\n"
     ]
    }
   ],
   "source": [
    "history = model.fit(train_generator, steps_per_epoch=steps_per_epoch, epochs=num_epochs, verbose=1, \n",
    "                    callbacks=callbacks_list, validation_data=val_generator, \n",
    "                    validation_steps=validation_steps, class_weight=None, workers=1, initial_epoch=0)"
   ]
  },
  {
   "cell_type": "code",
   "execution_count": 14,
   "metadata": {},
   "outputs": [
    {
     "data": {
      "text/plain": [
       "<Figure size 720x720 with 0 Axes>"
      ]
     },
     "metadata": {},
     "output_type": "display_data"
    },
    {
     "data": {
      "image/png": "[encoded data removed]",
      "text/plain": [
       "<Figure size 576x576 with 2 Axes>"
      ]
     },
     "metadata": {
      "needs_background": "light"
     },
     "output_type": "display_data"
    }
   ],
   "source": [
    "plt.figure(figsize = (10,10))\n",
    "\n",
    "acc = history.history['categorical_accuracy']\n",
    "val_acc = history.history['val_categorical_accuracy']\n",
    "\n",
    "loss = history.history['loss']\n",
    "val_loss = history.history['val_loss']\n",
    "\n",
    "epochs_range = range(num_epochs)\n",
    "\n",
    "plt.figure(figsize=(8, 8))\n",
    "plt.subplot(1, 2, 1)\n",
    "plt.plot(epochs_range, acc, label='Training Accuracy')\n",
    "plt.plot(epochs_range, val_acc, label='Validation Accuracy')\n",
    "plt.legend(loc='lower right')\n",
    "plt.title('Training and Validation Accuracy')\n",
    "\n",
    "plt.subplot(1, 2, 2)\n",
    "plt.plot(epochs_range, loss, label='Training Loss')\n",
    "plt.plot(epochs_range, val_loss, label='Validation Loss')\n",
    "plt.legend(loc='upper right')\n",
    "plt.title('Training and Validation Loss')\n",
    "plt.show()"
   ]
  },
  {
   "cell_type": "markdown",
   "metadata": {},
   "source": [
    "##### the model uses 2,477,669 Trainable params and has  90.4% as accuracy on train set and 73% on validation set. Let see if we can improve the acuraccy by using convolution layer of 32 and 64filters and increasing the epoch to 25"
   ]
  },
  {
   "cell_type": "markdown",
   "metadata": {},
   "source": [
    "# Model 2"
   ]
  },
  {
   "cell_type": "markdown",
   "metadata": {},
   "source": [
    "### This is 3D CNN architecture to process the video frames. It has 2 Convlolution layers with 32 and 64 kernels of (3x3x3) and image size 80x80"
   ]
  },
  {
   "cell_type": "code",
   "execution_count": 15,
   "metadata": {},
   "outputs": [],
   "source": [
    "model = Sequential()\n",
    "model.add(Conv3D(32, (3, 3, 3), padding='same',\n",
    "         input_shape=(13,80,80,3)))\n",
    "model.add(Activation('relu'))\n",
    "model.add(BatchNormalization())\n",
    "model.add(MaxPooling3D(pool_size=(2, 2, 2)))\n",
    "\n",
    "model.add(Conv3D(64, (3, 3, 3), padding='same'))\n",
    "model.add(Activation('relu'))\n",
    "model.add(BatchNormalization())\n",
    "model.add(MaxPooling3D(pool_size=(2, 2, 2)))\n",
    "\n",
    "model.add(Flatten())\n",
    "model.add(Dense(128,activation='relu'))\n",
    "model.add(BatchNormalization())\n",
    "model.add(Dropout(0.5))\n",
    "\n",
    "model.add(Dense(64,activation='relu'))\n",
    "model.add(BatchNormalization())\n",
    "model.add(Dropout(0.25))\n",
    "\n",
    "model.add(Dense(5,activation='softmax'))"
   ]
  },
  {
   "cell_type": "code",
   "execution_count": 16,
   "metadata": {},
   "outputs": [
    {
     "name": "stdout",
     "output_type": "stream",
     "text": [
      "Model: \"sequential_1\"\n",
      "_________________________________________________________________\n",
      " Layer (type)                Output Shape              Param #   \n",
      "=================================================================\n",
      " conv3d_2 (Conv3D)           (None, 13, 80, 80, 32)    2624      \n",
      "                                                                 \n",
      " activation_2 (Activation)   (None, 13, 80, 80, 32)    0         \n",
      "                                                                 \n",
      " batch_normalization_4 (Batc  (None, 13, 80, 80, 32)   128       \n",
      " hNormalization)                                                 \n",
      "                                                                 \n",
      " max_pooling3d_2 (MaxPooling  (None, 6, 40, 40, 32)    0         \n",
      " 3D)                                                             \n",
      "                                                                 \n",
      " conv3d_3 (Conv3D)           (None, 6, 40, 40, 64)     55360     \n",
      "                                                                 \n",
      " activation_3 (Activation)   (None, 6, 40, 40, 64)     0         \n",
      "                                                                 \n",
      " batch_normalization_5 (Batc  (None, 6, 40, 40, 64)    256       \n",
      " hNormalization)                                                 \n",
      "                                                                 \n",
      " max_pooling3d_3 (MaxPooling  (None, 3, 20, 20, 64)    0         \n",
      " 3D)                                                             \n",
      "                                                                 \n",
      " flatten_1 (Flatten)         (None, 76800)             0         \n",
      "                                                                 \n",
      " dense_3 (Dense)             (None, 128)               9830528   \n",
      "                                                                 \n",
      " batch_normalization_6 (Batc  (None, 128)              512       \n",
      " hNormalization)                                                 \n",
      "                                                                 \n",
      " dropout_2 (Dropout)         (None, 128)               0         \n",
      "                                                                 \n",
      " dense_4 (Dense)             (None, 64)                8256      \n",
      "                                                                 \n",
      " batch_normalization_7 (Batc  (None, 64)               256       \n",
      " hNormalization)                                                 \n",
      "                                                                 \n",
      " dropout_3 (Dropout)         (None, 64)                0         \n",
      "                                                                 \n",
      " dense_5 (Dense)             (None, 5)                 325       \n",
      "                                                                 \n",
      "=================================================================\n",
      "Total params: 9,898,245\n",
      "Trainable params: 9,897,669\n",
      "Non-trainable params: 576\n",
      "_________________________________________________________________\n",
      "None\n"
     ]
    }
   ],
   "source": [
    "optimiser = 'sgd'\n",
    "model.compile(optimizer=optimiser, loss='categorical_crossentropy', metrics=['categorical_accuracy'])\n",
    "print (model.summary())"
   ]
  },
  {
   "cell_type": "code",
   "execution_count": 17,
   "metadata": {},
   "outputs": [],
   "source": [
    "batch_size = 20\n",
    "num_epochs = 25"
   ]
  },
  {
   "cell_type": "code",
   "execution_count": 18,
   "metadata": {},
   "outputs": [],
   "source": [
    "train_generator = generator(train_path, train_doc, batch_size)\n",
    "val_generator = generator(val_path, val_doc, batch_size)"
   ]
  },
  {
   "cell_type": "code",
   "execution_count": 19,
   "metadata": {},
   "outputs": [],
   "source": [
    "if (num_train_sequences%batch_size) == 0:\n",
    "    steps_per_epoch = int(num_train_sequences/batch_size)\n",
    "else:\n",
    "    steps_per_epoch = (num_train_sequences//batch_size) + 1\n",
    "\n",
    "if (num_val_sequences%batch_size) == 0:\n",
    "    validation_steps = int(num_val_sequences/batch_size)\n",
    "else:\n",
    "    validation_steps = (num_val_sequences//batch_size) + 1"
   ]
  },
  {
   "cell_type": "code",
   "execution_count": 20,
   "metadata": {},
   "outputs": [
    {
     "name": "stdout",
     "output_type": "stream",
     "text": [
      "Source path =  /home/datasets/Project_data/train ; batch size = 20\n",
      "Epoch 1/25\n",
      "34/34 [==============================] - ETA: 0s - loss: 1.6965 - categorical_accuracy: 0.3721Source path =  /home/datasets/Project_data/val ; batch size = 20\n",
      "\n",
      "Epoch 00001: saving model to model_init_2025-03-3116_16_10.181665/model-00001-1.69646-0.37206-1.66153-0.19000.h5\n",
      "34/34 [==============================] - 71s 2s/step - loss: 1.6965 - categorical_accuracy: 0.3721 - val_loss: 1.6615 - val_categorical_accuracy: 0.1900 - lr: 0.0100\n",
      "Epoch 2/25\n",
      "34/34 [==============================] - ETA: 0s - loss: 1.1779 - categorical_accuracy: 0.5338\n",
      "Epoch 00002: saving model to model_init_2025-03-3116_16_10.181665/model-00002-1.17787-0.53382-2.28259-0.27000.h5\n",
      "34/34 [==============================] - 67s 2s/step - loss: 1.1779 - categorical_accuracy: 0.5338 - val_loss: 2.2826 - val_categorical_accuracy: 0.2700 - lr: 0.0100\n",
      "Epoch 3/25\n",
      "34/34 [==============================] - ETA: 0s - loss: 1.0142 - categorical_accuracy: 0.6074\n",
      "Epoch 00003: saving model to model_init_2025-03-3116_16_10.181665/model-00003-1.01421-0.60735-4.93190-0.23000.h5\n",
      "34/34 [==============================] - 68s 2s/step - loss: 1.0142 - categorical_accuracy: 0.6074 - val_loss: 4.9319 - val_categorical_accuracy: 0.2300 - lr: 0.0100\n",
      "Epoch 4/25\n",
      "34/34 [==============================] - ETA: 0s - loss: 0.7325 - categorical_accuracy: 0.7176\n",
      "Epoch 00004: saving model to model_init_2025-03-3116_16_10.181665/model-00004-0.73250-0.71765-6.44197-0.23000.h5\n",
      "34/34 [==============================] - 67s 2s/step - loss: 0.7325 - categorical_accuracy: 0.7176 - val_loss: 6.4420 - val_categorical_accuracy: 0.2300 - lr: 0.0100\n",
      "Epoch 5/25\n",
      "34/34 [==============================] - ETA: 0s - loss: 0.6178 - categorical_accuracy: 0.7676\n",
      "Epoch 00005: saving model to model_init_2025-03-3116_16_10.181665/model-00005-0.61781-0.76765-6.02043-0.20000.h5\n",
      "\n",
      "Epoch 00005: ReduceLROnPlateau reducing learning rate to 0.0019999999552965165.\n",
      "34/34 [==============================] - 65s 2s/step - loss: 0.6178 - categorical_accuracy: 0.7676 - val_loss: 6.0204 - val_categorical_accuracy: 0.2000 - lr: 0.0100\n",
      "Epoch 6/25\n",
      "34/34 [==============================] - ETA: 0s - loss: 0.5418 - categorical_accuracy: 0.8029\n",
      "Epoch 00006: saving model to model_init_2025-03-3116_16_10.181665/model-00006-0.54179-0.80294-8.10385-0.21000.h5\n",
      "34/34 [==============================] - 66s 2s/step - loss: 0.5418 - categorical_accuracy: 0.8029 - val_loss: 8.1038 - val_categorical_accuracy: 0.2100 - lr: 0.0020\n",
      "Epoch 7/25\n",
      "34/34 [==============================] - ETA: 0s - loss: 0.4887 - categorical_accuracy: 0.8279\n",
      "Epoch 00007: saving model to model_init_2025-03-3116_16_10.181665/model-00007-0.48869-0.82794-5.44898-0.28000.h5\n",
      "34/34 [==============================] - 67s 2s/step - loss: 0.4887 - categorical_accuracy: 0.8279 - val_loss: 5.4490 - val_categorical_accuracy: 0.2800 - lr: 0.0020\n",
      "Epoch 8/25\n",
      "34/34 [==============================] - ETA: 0s - loss: 0.4081 - categorical_accuracy: 0.8676\n",
      "Epoch 00008: saving model to model_init_2025-03-3116_16_10.181665/model-00008-0.40811-0.86765-4.22559-0.18000.h5\n",
      "34/34 [==============================] - 68s 2s/step - loss: 0.4081 - categorical_accuracy: 0.8676 - val_loss: 4.2256 - val_categorical_accuracy: 0.1800 - lr: 0.0020\n",
      "Epoch 9/25\n",
      "34/34 [==============================] - ETA: 0s - loss: 0.4191 - categorical_accuracy: 0.8618\n",
      "Epoch 00009: saving model to model_init_2025-03-3116_16_10.181665/model-00009-0.41910-0.86176-2.99199-0.37000.h5\n",
      "\n",
      "Epoch 00009: ReduceLROnPlateau reducing learning rate to 0.0003999999724328518.\n",
      "34/34 [==============================] - 68s 2s/step - loss: 0.4191 - categorical_accuracy: 0.8618 - val_loss: 2.9920 - val_categorical_accuracy: 0.3700 - lr: 0.0020\n",
      "Epoch 10/25\n",
      "34/34 [==============================] - ETA: 0s - loss: 0.3947 - categorical_accuracy: 0.8794\n",
      "Epoch 00010: saving model to model_init_2025-03-3116_16_10.181665/model-00010-0.39466-0.87941-2.16785-0.36000.h5\n",
      "34/34 [==============================] - 68s 2s/step - loss: 0.3947 - categorical_accuracy: 0.8794 - val_loss: 2.1679 - val_categorical_accuracy: 0.3600 - lr: 4.0000e-04\n",
      "Epoch 11/25\n",
      "34/34 [==============================] - ETA: 0s - loss: 0.3285 - categorical_accuracy: 0.8985\n",
      "Epoch 00011: saving model to model_init_2025-03-3116_16_10.181665/model-00011-0.32846-0.89853-1.56774-0.40000.h5\n",
      "34/34 [==============================] - 67s 2s/step - loss: 0.3285 - categorical_accuracy: 0.8985 - val_loss: 1.5677 - val_categorical_accuracy: 0.4000 - lr: 4.0000e-04\n",
      "Epoch 12/25\n",
      "34/34 [==============================] - ETA: 0s - loss: 0.3346 - categorical_accuracy: 0.8912\n",
      "Epoch 00012: saving model to model_init_2025-03-3116_16_10.181665/model-00012-0.33462-0.89118-1.29327-0.47000.h5\n",
      "34/34 [==============================] - 69s 2s/step - loss: 0.3346 - categorical_accuracy: 0.8912 - val_loss: 1.2933 - val_categorical_accuracy: 0.4700 - lr: 4.0000e-04\n",
      "Epoch 13/25\n",
      "34/34 [==============================] - ETA: 0s - loss: 0.3362 - categorical_accuracy: 0.9015\n",
      "Epoch 00013: saving model to model_init_2025-03-3116_16_10.181665/model-00013-0.33616-0.90147-1.25916-0.54000.h5\n",
      "34/34 [==============================] - 66s 2s/step - loss: 0.3362 - categorical_accuracy: 0.9015 - val_loss: 1.2592 - val_categorical_accuracy: 0.5400 - lr: 4.0000e-04\n",
      "Epoch 14/25\n",
      "34/34 [==============================] - ETA: 0s - loss: 0.3578 - categorical_accuracy: 0.8868\n",
      "Epoch 00014: saving model to model_init_2025-03-3116_16_10.181665/model-00014-0.35784-0.88676-1.09343-0.61000.h5\n",
      "34/34 [==============================] - 68s 2s/step - loss: 0.3578 - categorical_accuracy: 0.8868 - val_loss: 1.0934 - val_categorical_accuracy: 0.6100 - lr: 4.0000e-04\n",
      "Epoch 15/25\n",
      "34/34 [==============================] - ETA: 0s - loss: 0.3277 - categorical_accuracy: 0.8971\n",
      "Epoch 00015: saving model to model_init_2025-03-3116_16_10.181665/model-00015-0.32770-0.89706-1.02207-0.63000.h5\n",
      "34/34 [==============================] - 68s 2s/step - loss: 0.3277 - categorical_accuracy: 0.8971 - val_loss: 1.0221 - val_categorical_accuracy: 0.6300 - lr: 4.0000e-04\n",
      "Epoch 16/25\n",
      "34/34 [==============================] - ETA: 0s - loss: 0.3471 - categorical_accuracy: 0.8985\n",
      "Epoch 00016: saving model to model_init_2025-03-3116_16_10.181665/model-00016-0.34709-0.89853-0.94990-0.67000.h5\n",
      "34/34 [==============================] - 75s 2s/step - loss: 0.3471 - categorical_accuracy: 0.8985 - val_loss: 0.9499 - val_categorical_accuracy: 0.6700 - lr: 4.0000e-04\n",
      "Epoch 17/25\n",
      "34/34 [==============================] - ETA: 0s - loss: 0.3677 - categorical_accuracy: 0.8765\n",
      "Epoch 00017: saving model to model_init_2025-03-3116_16_10.181665/model-00017-0.36767-0.87647-0.77525-0.74000.h5\n",
      "34/34 [==============================] - 67s 2s/step - loss: 0.3677 - categorical_accuracy: 0.8765 - val_loss: 0.7752 - val_categorical_accuracy: 0.7400 - lr: 4.0000e-04\n",
      "Epoch 18/25\n",
      "34/34 [==============================] - ETA: 0s - loss: 0.3515 - categorical_accuracy: 0.8868\n",
      "Epoch 00018: saving model to model_init_2025-03-3116_16_10.181665/model-00018-0.35154-0.88676-0.68925-0.74000.h5\n",
      "34/34 [==============================] - 68s 2s/step - loss: 0.3515 - categorical_accuracy: 0.8868 - val_loss: 0.6893 - val_categorical_accuracy: 0.7400 - lr: 4.0000e-04\n",
      "Epoch 19/25\n",
      "34/34 [==============================] - ETA: 0s - loss: 0.3085 - categorical_accuracy: 0.9132\n",
      "Epoch 00019: saving model to model_init_2025-03-3116_16_10.181665/model-00019-0.30846-0.91324-0.81187-0.71000.h5\n",
      "34/34 [==============================] - 67s 2s/step - loss: 0.3085 - categorical_accuracy: 0.9132 - val_loss: 0.8119 - val_categorical_accuracy: 0.7100 - lr: 4.0000e-04\n",
      "Epoch 20/25\n",
      "34/34 [==============================] - ETA: 0s - loss: 0.3276 - categorical_accuracy: 0.8971\n",
      "Epoch 00020: saving model to model_init_2025-03-3116_16_10.181665/model-00020-0.32760-0.89706-0.67711-0.75000.h5\n",
      "34/34 [==============================] - 68s 2s/step - loss: 0.3276 - categorical_accuracy: 0.8971 - val_loss: 0.6771 - val_categorical_accuracy: 0.7500 - lr: 4.0000e-04\n",
      "Epoch 21/25\n",
      "34/34 [==============================] - ETA: 0s - loss: 0.3338 - categorical_accuracy: 0.8824\n",
      "Epoch 00021: saving model to model_init_2025-03-3116_16_10.181665/model-00021-0.33384-0.88235-0.66154-0.78000.h5\n",
      "34/34 [==============================] - 67s 2s/step - loss: 0.3338 - categorical_accuracy: 0.8824 - val_loss: 0.6615 - val_categorical_accuracy: 0.7800 - lr: 4.0000e-04\n",
      "Epoch 22/25\n",
      "34/34 [==============================] - ETA: 0s - loss: 0.3021 - categorical_accuracy: 0.9221\n",
      "Epoch 00022: saving model to model_init_2025-03-3116_16_10.181665/model-00022-0.30212-0.92206-0.60443-0.80000.h5\n",
      "34/34 [==============================] - 67s 2s/step - loss: 0.3021 - categorical_accuracy: 0.9221 - val_loss: 0.6044 - val_categorical_accuracy: 0.8000 - lr: 4.0000e-04\n",
      "Epoch 23/25\n",
      "34/34 [==============================] - ETA: 0s - loss: 0.2931 - categorical_accuracy: 0.9221\n",
      "Epoch 00023: saving model to model_init_2025-03-3116_16_10.181665/model-00023-0.29309-0.92206-0.55176-0.82000.h5\n",
      "34/34 [==============================] - 67s 2s/step - loss: 0.2931 - categorical_accuracy: 0.9221 - val_loss: 0.5518 - val_categorical_accuracy: 0.8200 - lr: 4.0000e-04\n",
      "Epoch 24/25\n",
      "34/34 [==============================] - ETA: 0s - loss: 0.3201 - categorical_accuracy: 0.9015\n",
      "Epoch 00024: saving model to model_init_2025-03-3116_16_10.181665/model-00024-0.32008-0.90147-0.73675-0.73000.h5\n",
      "34/34 [==============================] - 67s 2s/step - loss: 0.3201 - categorical_accuracy: 0.9015 - val_loss: 0.7367 - val_categorical_accuracy: 0.7300 - lr: 4.0000e-04\n",
      "Epoch 25/25\n",
      "34/34 [==============================] - ETA: 0s - loss: 0.2783 - categorical_accuracy: 0.9015\n",
      "Epoch 00025: saving model to model_init_2025-03-3116_16_10.181665/model-00025-0.27825-0.90147-0.61781-0.79000.h5\n",
      "34/34 [==============================] - 68s 2s/step - loss: 0.2783 - categorical_accuracy: 0.9015 - val_loss: 0.6178 - val_categorical_accuracy: 0.7900 - lr: 4.0000e-04\n"
     ]
    }
   ],
   "source": [
    "history = model.fit(train_generator, steps_per_epoch=steps_per_epoch, epochs=num_epochs, verbose=1, \n",
    "                    callbacks=callbacks_list, validation_data=val_generator, \n",
    "                    validation_steps=validation_steps, class_weight=None, workers=1, initial_epoch=0)"
   ]
  },
  {
   "cell_type": "code",
   "execution_count": 21,
   "metadata": {},
   "outputs": [
    {
     "data": {
      "text/plain": [
       "<Figure size 720x720 with 0 Axes>"
      ]
     },
     "metadata": {},
     "output_type": "display_data"
    },
    {
     "data": {
      "image/png": "[encoded data removed]",
      "text/plain": [
       "<Figure size 576x576 with 2 Axes>"
      ]
     },
     "metadata": {
      "needs_background": "light"
     },
     "output_type": "display_data"
    }
   ],
   "source": [
    "plt.figure(figsize = (10,10))\n",
    "\n",
    "acc = history.history['categorical_accuracy']\n",
    "val_acc = history.history['val_categorical_accuracy']\n",
    "\n",
    "loss = history.history['loss']\n",
    "val_loss = history.history['val_loss']\n",
    "\n",
    "epochs_range = range(num_epochs)\n",
    "\n",
    "plt.figure(figsize=(8, 8))\n",
    "plt.subplot(1, 2, 1)\n",
    "plt.plot(epochs_range, acc, label='Training Accuracy')\n",
    "plt.plot(epochs_range, val_acc, label='Validation Accuracy')\n",
    "plt.legend(loc='lower right')\n",
    "plt.title('Training and Validation Accuracy')\n",
    "\n",
    "plt.subplot(1, 2, 2)\n",
    "plt.plot(epochs_range, loss, label='Training Loss')\n",
    "plt.plot(epochs_range, val_loss, label='Validation Loss')\n",
    "plt.legend(loc='upper right')\n",
    "plt.title('Training and Validation Loss')\n",
    "plt.show()"
   ]
  },
  {
   "cell_type": "markdown",
   "metadata": {},
   "source": [
    "##### the model uses 9,897,669 Trainable params and has  90.1% as accuracy on train set and 79% on validation set. we can see the resultant validation acuracy has increased "
   ]
  },
  {
   "cell_type": "markdown",
   "metadata": {},
   "source": [
    "# Model 3"
   ]
  },
  {
   "cell_type": "markdown",
   "metadata": {},
   "source": [
    "### This is 3D CNN architecture to process the video frames. It has 2 Convlolution layers with 16 and 32 kernels of (3x3x3).Using Image size as 120x120"
   ]
  },
  {
   "cell_type": "code",
   "execution_count": 24,
   "metadata": {},
   "outputs": [],
   "source": [
    "batch_size=20"
   ]
  },
  {
   "cell_type": "code",
   "execution_count": 25,
   "metadata": {},
   "outputs": [],
   "source": [
    "def generator(source_path, folder_list, batch_size):\n",
    "    print( 'Source path = ', source_path, '; batch size =', batch_size)\n",
    "    img_idx =[2,4,6,8,10,12,14,16,18,20,22,24,26] #create a list of image numbers you want to use for a particular video\n",
    "    while True:\n",
    "        t = np.random.permutation(folder_list)\n",
    "        num_batches = len(t) // batch_size # calculate the number of batches\n",
    "        for batch in range(num_batches): # we iterate over the number of batches\n",
    "            batch_data = np.zeros((batch_size,13,120,120,3)) # x is the number of images you use for each video, (y,z) is the final size of the input images and 3 is the number of channels RGB\n",
    "            batch_labels = np.zeros((batch_size,5)) # batch_labels is the one hot representation of the output\n",
    "            for folder in range(batch_size): # iterate over the batch_size\n",
    "                imgs = os.listdir(source_path+'/'+ t[folder + (batch*batch_size)].split(';')[0]) # read all the images in the folder\n",
    "                for idx,item in enumerate(img_idx): #  Iterate iver the frames/images of a folder to read them in\n",
    "                    image = imread(source_path+'/'+ t[folder + (batch*batch_size)].strip().split(';')[0]+'/'+imgs[item]).astype(np.float32)\n",
    "                    \n",
    "                    #crop the images and resize them. Note that the images are of 2 different shape \n",
    "                    image = resize(image,(120,120)).astype(np.float32)\n",
    "                    #and the conv3D will throw error if the inputs in a batch have different shapes\n",
    "                    \n",
    "                    batch_data[folder,idx,:,:,0] = (image[:,:,0])/255  #normalise and feed in the image\n",
    "                    batch_data[folder,idx,:,:,1] = (image[:,:,1])/255  #normalise and feed in the image\n",
    "                    batch_data[folder,idx,:,:,2] = (image[:,:,2])/255  #normalise and feed in the image\n",
    "                    \n",
    "                batch_labels[folder, int(t[folder + (batch*batch_size)].strip().split(';')[2])] = 1\n",
    "            yield batch_data, batch_labels #you yield the batch_data and the batch_labels, remember what does yield do\n",
    "\n",
    "        \n",
    "        # write the code for the remaining data points which are left after full batches\n",
    "        if len(t) % batch_size != 0:\n",
    "            batch_data = np.zeros((batch_size,13,120,120,3)) \n",
    "            batch_labels = np.zeros((batch_size,5)) # batch_labels is the one hot representation of the output\n",
    "            for folder in range(batch_size): # iterate over the batch_size\n",
    "                imgs = os.listdir(source_path+'/'+ t[folder + (batch*batch_size)].split(';')[0]) # read all the images in the folder\n",
    "                for idx,item in enumerate(img_idx): #  Iterate iver the frames/images of a folder to read them in\n",
    "                    image = imread(source_path+'/'+ t[folder + (batch*batch_size)].strip().split(';')[0]+'/'+imgs[item]).astype(np.float32)\n",
    "                    image = resize(image,(120,120)).astype(np.float32)\n",
    "                    batch_data[folder,idx,:,:,0] = (image[:,:,0])/255\n",
    "                    batch_data[folder,idx,:,:,1] = (image[:,:,1])/255\n",
    "                    batch_data[folder,idx,:,:,2] = (image[:,:,2])/255\n",
    "                batch_labels[folder, int(t[folder + (batch*batch_size)].strip().split(';')[2])] = 1 \n",
    "            yield batch_data, batch_labels\n"
   ]
  },
  {
   "cell_type": "code",
   "execution_count": 26,
   "metadata": {},
   "outputs": [
    {
     "name": "stdout",
     "output_type": "stream",
     "text": [
      "# training sequences = 663\n",
      "# validation sequences = 100\n",
      "# epochs = 20\n"
     ]
    }
   ],
   "source": [
    "curr_dt_time = datetime.datetime.now()\n",
    "train_path = '/home/datasets/Project_data/train'\n",
    "val_path = '/home/datasets/Project_data/val'\n",
    "num_train_sequences = len(train_doc)\n",
    "print('# training sequences =', num_train_sequences)\n",
    "num_val_sequences = len(val_doc)\n",
    "print('# validation sequences =', num_val_sequences)\n",
    "num_epochs = 20 # choose the number of epochs\n",
    "batch_size=20\n",
    "print ('# epochs =', num_epochs)"
   ]
  },
  {
   "cell_type": "code",
   "execution_count": 28,
   "metadata": {},
   "outputs": [],
   "source": [
    "model = Sequential()\n",
    "model.add(Conv3D(16, (3, 3, 3), padding='same',\n",
    "         input_shape=(13,120,120,3)))\n",
    "model.add(Activation('relu'))\n",
    "model.add(BatchNormalization())\n",
    "model.add(MaxPooling3D(pool_size=(2, 2, 2)))\n",
    "\n",
    "model.add(Conv3D(32, (3, 3, 3), padding='same'))\n",
    "model.add(Activation('relu'))\n",
    "model.add(BatchNormalization())\n",
    "model.add(MaxPooling3D(pool_size=(2, 2, 2)))\n",
    "\n",
    "\n",
    "model.add(Flatten())\n",
    "model.add(Dense(64,activation='relu'))\n",
    "model.add(BatchNormalization())\n",
    "model.add(Dropout(0.25))\n",
    "\n",
    "model.add(Dense(64,activation='relu'))\n",
    "model.add(BatchNormalization())\n",
    "model.add(Dropout(0.25))\n",
    "\n",
    "model.add(Dense(5,activation='softmax'))"
   ]
  },
  {
   "cell_type": "code",
   "execution_count": 29,
   "metadata": {},
   "outputs": [
    {
     "name": "stdout",
     "output_type": "stream",
     "text": [
      "Model: \"sequential_3\"\n",
      "_________________________________________________________________\n",
      " Layer (type)                Output Shape              Param #   \n",
      "=================================================================\n",
      " conv3d_6 (Conv3D)           (None, 13, 120, 120, 16)  1312      \n",
      "                                                                 \n",
      " activation_6 (Activation)   (None, 13, 120, 120, 16)  0         \n",
      "                                                                 \n",
      " batch_normalization_12 (Bat  (None, 13, 120, 120, 16)  64       \n",
      " chNormalization)                                                \n",
      "                                                                 \n",
      " max_pooling3d_6 (MaxPooling  (None, 6, 60, 60, 16)    0         \n",
      " 3D)                                                             \n",
      "                                                                 \n",
      " conv3d_7 (Conv3D)           (None, 6, 60, 60, 32)     13856     \n",
      "                                                                 \n",
      " activation_7 (Activation)   (None, 6, 60, 60, 32)     0         \n",
      "                                                                 \n",
      " batch_normalization_13 (Bat  (None, 6, 60, 60, 32)    128       \n",
      " chNormalization)                                                \n",
      "                                                                 \n",
      " max_pooling3d_7 (MaxPooling  (None, 3, 30, 30, 32)    0         \n",
      " 3D)                                                             \n",
      "                                                                 \n",
      " flatten_3 (Flatten)         (None, 86400)             0         \n",
      "                                                                 \n",
      " dense_9 (Dense)             (None, 64)                5529664   \n",
      "                                                                 \n",
      " batch_normalization_14 (Bat  (None, 64)               256       \n",
      " chNormalization)                                                \n",
      "                                                                 \n",
      " dropout_6 (Dropout)         (None, 64)                0         \n",
      "                                                                 \n",
      " dense_10 (Dense)            (None, 64)                4160      \n",
      "                                                                 \n",
      " batch_normalization_15 (Bat  (None, 64)               256       \n",
      " chNormalization)                                                \n",
      "                                                                 \n",
      " dropout_7 (Dropout)         (None, 64)                0         \n",
      "                                                                 \n",
      " dense_11 (Dense)            (None, 5)                 325       \n",
      "                                                                 \n",
      "=================================================================\n",
      "Total params: 5,550,021\n",
      "Trainable params: 5,549,669\n",
      "Non-trainable params: 352\n",
      "_________________________________________________________________\n",
      "None\n"
     ]
    }
   ],
   "source": [
    "optimiser = 'sgd'\n",
    "model.compile(optimizer=optimiser, loss='categorical_crossentropy', metrics=['categorical_accuracy'])\n",
    "print (model.summary())"
   ]
  },
  {
   "cell_type": "code",
   "execution_count": null,
   "metadata": {},
   "outputs": [],
   "source": []
  },
  {
   "cell_type": "code",
   "execution_count": 30,
   "metadata": {},
   "outputs": [],
   "source": [
    "train_generator = generator(train_path, train_doc, batch_size)\n",
    "val_generator = generator(val_path, val_doc, batch_size)"
   ]
  },
  {
   "cell_type": "code",
   "execution_count": 31,
   "metadata": {},
   "outputs": [],
   "source": [
    "if (num_train_sequences%batch_size) == 0:\n",
    "    steps_per_epoch = int(num_train_sequences/batch_size)\n",
    "else:\n",
    "    steps_per_epoch = (num_train_sequences//batch_size) + 1\n",
    "\n",
    "if (num_val_sequences%batch_size) == 0:\n",
    "    validation_steps = int(num_val_sequences/batch_size)\n",
    "else:\n",
    "    validation_steps = (num_val_sequences//batch_size) + 1"
   ]
  },
  {
   "cell_type": "code",
   "execution_count": 32,
   "metadata": {},
   "outputs": [
    {
     "name": "stdout",
     "output_type": "stream",
     "text": [
      "Source path =  /home/datasets/Project_data/train ; batch size = 20\n",
      "Epoch 1/20\n",
      "34/34 [==============================] - ETA: 0s - loss: 1.5570 - categorical_accuracy: 0.4353Source path =  /home/datasets/Project_data/val ; batch size = 20\n",
      "\n",
      "Epoch 00001: saving model to model_init_2025-03-3116_16_10.181665/model-00001-1.55700-0.43529-1.67984-0.26000.h5\n",
      "34/34 [==============================] - 70s 2s/step - loss: 1.5570 - categorical_accuracy: 0.4353 - val_loss: 1.6798 - val_categorical_accuracy: 0.2600 - lr: 0.0100\n",
      "Epoch 2/20\n",
      "34/34 [==============================] - ETA: 0s - loss: 1.0764 - categorical_accuracy: 0.5676\n",
      "Epoch 00002: saving model to model_init_2025-03-3116_16_10.181665/model-00002-1.07638-0.56765-2.23228-0.16000.h5\n",
      "34/34 [==============================] - 68s 2s/step - loss: 1.0764 - categorical_accuracy: 0.5676 - val_loss: 2.2323 - val_categorical_accuracy: 0.1600 - lr: 0.0100\n",
      "Epoch 3/20\n",
      "34/34 [==============================] - ETA: 0s - loss: 0.8733 - categorical_accuracy: 0.6603\n",
      "Epoch 00003: saving model to model_init_2025-03-3116_16_10.181665/model-00003-0.87331-0.66029-4.10857-0.19000.h5\n",
      "34/34 [==============================] - 69s 2s/step - loss: 0.8733 - categorical_accuracy: 0.6603 - val_loss: 4.1086 - val_categorical_accuracy: 0.1900 - lr: 0.0100\n",
      "Epoch 4/20\n",
      "34/34 [==============================] - ETA: 0s - loss: 0.7481 - categorical_accuracy: 0.7015\n",
      "Epoch 00004: saving model to model_init_2025-03-3116_16_10.181665/model-00004-0.74809-0.70147-3.61923-0.25000.h5\n",
      "34/34 [==============================] - 68s 2s/step - loss: 0.7481 - categorical_accuracy: 0.7015 - val_loss: 3.6192 - val_categorical_accuracy: 0.2500 - lr: 0.0100\n",
      "Epoch 5/20\n",
      "34/34 [==============================] - ETA: 0s - loss: 0.5180 - categorical_accuracy: 0.7985\n",
      "Epoch 00005: saving model to model_init_2025-03-3116_16_10.181665/model-00005-0.51804-0.79853-3.80641-0.27000.h5\n",
      "\n",
      "Epoch 00005: ReduceLROnPlateau reducing learning rate to 0.0019999999552965165.\n",
      "34/34 [==============================] - 70s 2s/step - loss: 0.5180 - categorical_accuracy: 0.7985 - val_loss: 3.8064 - val_categorical_accuracy: 0.2700 - lr: 0.0100\n",
      "Epoch 6/20\n",
      "34/34 [==============================] - ETA: 0s - loss: 0.4277 - categorical_accuracy: 0.8397\n",
      "Epoch 00006: saving model to model_init_2025-03-3116_16_10.181665/model-00006-0.42769-0.83971-3.56465-0.24000.h5\n",
      "34/34 [==============================] - 69s 2s/step - loss: 0.4277 - categorical_accuracy: 0.8397 - val_loss: 3.5646 - val_categorical_accuracy: 0.2400 - lr: 0.0020\n",
      "Epoch 7/20\n",
      "34/34 [==============================] - ETA: 0s - loss: 0.3664 - categorical_accuracy: 0.8750\n",
      "Epoch 00007: saving model to model_init_2025-03-3116_16_10.181665/model-00007-0.36640-0.87500-3.24719-0.20000.h5\n",
      "34/34 [==============================] - 67s 2s/step - loss: 0.3664 - categorical_accuracy: 0.8750 - val_loss: 3.2472 - val_categorical_accuracy: 0.2000 - lr: 0.0020\n",
      "Epoch 8/20\n",
      "34/34 [==============================] - ETA: 0s - loss: 0.3512 - categorical_accuracy: 0.8779\n",
      "Epoch 00008: saving model to model_init_2025-03-3116_16_10.181665/model-00008-0.35121-0.87794-2.65406-0.28000.h5\n",
      "34/34 [==============================] - 67s 2s/step - loss: 0.3512 - categorical_accuracy: 0.8779 - val_loss: 2.6541 - val_categorical_accuracy: 0.2800 - lr: 0.0020\n",
      "Epoch 9/20\n",
      "34/34 [==============================] - ETA: 0s - loss: 0.3338 - categorical_accuracy: 0.8956\n",
      "Epoch 00009: saving model to model_init_2025-03-3116_16_10.181665/model-00009-0.33380-0.89559-2.10338-0.39000.h5\n",
      "\n",
      "Epoch 00009: ReduceLROnPlateau reducing learning rate to 0.0003999999724328518.\n",
      "34/34 [==============================] - 67s 2s/step - loss: 0.3338 - categorical_accuracy: 0.8956 - val_loss: 2.1034 - val_categorical_accuracy: 0.3900 - lr: 0.0020\n",
      "Epoch 10/20\n",
      "34/34 [==============================] - ETA: 0s - loss: 0.2928 - categorical_accuracy: 0.9044\n",
      "Epoch 00010: saving model to model_init_2025-03-3116_16_10.181665/model-00010-0.29283-0.90441-1.92663-0.35000.h5\n",
      "34/34 [==============================] - 67s 2s/step - loss: 0.2928 - categorical_accuracy: 0.9044 - val_loss: 1.9266 - val_categorical_accuracy: 0.3500 - lr: 4.0000e-04\n",
      "Epoch 11/20\n",
      "34/34 [==============================] - ETA: 0s - loss: 0.3254 - categorical_accuracy: 0.9015\n",
      "Epoch 00011: saving model to model_init_2025-03-3116_16_10.181665/model-00011-0.32545-0.90147-1.67798-0.37000.h5\n",
      "34/34 [==============================] - 67s 2s/step - loss: 0.3254 - categorical_accuracy: 0.9015 - val_loss: 1.6780 - val_categorical_accuracy: 0.3700 - lr: 4.0000e-04\n",
      "Epoch 12/20\n",
      "34/34 [==============================] - ETA: 0s - loss: 0.3121 - categorical_accuracy: 0.9103\n",
      "Epoch 00012: saving model to model_init_2025-03-3116_16_10.181665/model-00012-0.31212-0.91029-1.19880-0.47000.h5\n",
      "34/34 [==============================] - 67s 2s/step - loss: 0.3121 - categorical_accuracy: 0.9103 - val_loss: 1.1988 - val_categorical_accuracy: 0.4700 - lr: 4.0000e-04\n",
      "Epoch 13/20\n",
      "34/34 [==============================] - ETA: 0s - loss: 0.2957 - categorical_accuracy: 0.9029\n",
      "Epoch 00013: saving model to model_init_2025-03-3116_16_10.181665/model-00013-0.29573-0.90294-1.24033-0.46000.h5\n",
      "34/34 [==============================] - 67s 2s/step - loss: 0.2957 - categorical_accuracy: 0.9029 - val_loss: 1.2403 - val_categorical_accuracy: 0.4600 - lr: 4.0000e-04\n",
      "Epoch 14/20\n",
      "34/34 [==============================] - ETA: 0s - loss: 0.3109 - categorical_accuracy: 0.8824\n",
      "Epoch 00014: saving model to model_init_2025-03-3116_16_10.181665/model-00014-0.31088-0.88235-0.99584-0.62000.h5\n",
      "34/34 [==============================] - 68s 2s/step - loss: 0.3109 - categorical_accuracy: 0.8824 - val_loss: 0.9958 - val_categorical_accuracy: 0.6200 - lr: 4.0000e-04\n",
      "Epoch 15/20\n",
      "34/34 [==============================] - ETA: 0s - loss: 0.3012 - categorical_accuracy: 0.9000\n",
      "Epoch 00015: saving model to model_init_2025-03-3116_16_10.181665/model-00015-0.30121-0.90000-0.93975-0.64000.h5\n",
      "34/34 [==============================] - 68s 2s/step - loss: 0.3012 - categorical_accuracy: 0.9000 - val_loss: 0.9398 - val_categorical_accuracy: 0.6400 - lr: 4.0000e-04\n",
      "Epoch 16/20\n",
      "34/34 [==============================] - ETA: 0s - loss: 0.2981 - categorical_accuracy: 0.8971\n",
      "Epoch 00016: saving model to model_init_2025-03-3116_16_10.181665/model-00016-0.29814-0.89706-0.83310-0.70000.h5\n",
      "34/34 [==============================] - 68s 2s/step - loss: 0.2981 - categorical_accuracy: 0.8971 - val_loss: 0.8331 - val_categorical_accuracy: 0.7000 - lr: 4.0000e-04\n",
      "Epoch 17/20\n",
      "34/34 [==============================] - ETA: 0s - loss: 0.2949 - categorical_accuracy: 0.9029\n",
      "Epoch 00017: saving model to model_init_2025-03-3116_16_10.181665/model-00017-0.29491-0.90294-0.77022-0.75000.h5\n",
      "34/34 [==============================] - 68s 2s/step - loss: 0.2949 - categorical_accuracy: 0.9029 - val_loss: 0.7702 - val_categorical_accuracy: 0.7500 - lr: 4.0000e-04\n",
      "Epoch 18/20\n",
      "34/34 [==============================] - ETA: 0s - loss: 0.3039 - categorical_accuracy: 0.9044\n",
      "Epoch 00018: saving model to model_init_2025-03-3116_16_10.181665/model-00018-0.30392-0.90441-0.77120-0.76000.h5\n",
      "34/34 [==============================] - 68s 2s/step - loss: 0.3039 - categorical_accuracy: 0.9044 - val_loss: 0.7712 - val_categorical_accuracy: 0.7600 - lr: 4.0000e-04\n",
      "Epoch 19/20\n",
      "34/34 [==============================] - ETA: 0s - loss: 0.2867 - categorical_accuracy: 0.9206\n",
      "Epoch 00019: saving model to model_init_2025-03-3116_16_10.181665/model-00019-0.28673-0.92059-0.65473-0.80000.h5\n",
      "34/34 [==============================] - 69s 2s/step - loss: 0.2867 - categorical_accuracy: 0.9206 - val_loss: 0.6547 - val_categorical_accuracy: 0.8000 - lr: 4.0000e-04\n",
      "Epoch 20/20\n",
      "34/34 [==============================] - ETA: 0s - loss: 0.2616 - categorical_accuracy: 0.9191\n",
      "Epoch 00020: saving model to model_init_2025-03-3116_16_10.181665/model-00020-0.26161-0.91912-0.66317-0.77000.h5\n",
      "34/34 [==============================] - 69s 2s/step - loss: 0.2616 - categorical_accuracy: 0.9191 - val_loss: 0.6632 - val_categorical_accuracy: 0.7700 - lr: 4.0000e-04\n"
     ]
    }
   ],
   "source": [
    "history = model.fit(train_generator, steps_per_epoch=steps_per_epoch, epochs=num_epochs, verbose=1, \n",
    "                    callbacks=callbacks_list, validation_data=val_generator, \n",
    "                    validation_steps=validation_steps, class_weight=None, workers=1, initial_epoch=0)"
   ]
  },
  {
   "cell_type": "code",
   "execution_count": 33,
   "metadata": {},
   "outputs": [
    {
     "data": {
      "text/plain": [
       "<Figure size 720x720 with 0 Axes>"
      ]
     },
     "metadata": {},
     "output_type": "display_data"
    },
    {
     "data": {
      "image/png": "[encoded data removed]",
      "text/plain": [
       "<Figure size 576x576 with 2 Axes>"
      ]
     },
     "metadata": {
      "needs_background": "light"
     },
     "output_type": "display_data"
    }
   ],
   "source": [
    "plt.figure(figsize = (10,10))\n",
    "\n",
    "acc = history.history['categorical_accuracy']\n",
    "val_acc = history.history['val_categorical_accuracy']\n",
    "\n",
    "loss = history.history['loss']\n",
    "val_loss = history.history['val_loss']\n",
    "\n",
    "epochs_range = range(num_epochs)\n",
    "\n",
    "plt.figure(figsize=(8, 8))\n",
    "plt.subplot(1, 2, 1)\n",
    "plt.plot(epochs_range, acc, label='Training Accuracy')\n",
    "plt.plot(epochs_range, val_acc, label='Validation Accuracy')\n",
    "plt.legend(loc='lower right')\n",
    "plt.title('Training and Validation Accuracy')\n",
    "\n",
    "plt.subplot(1, 2, 2)\n",
    "plt.plot(epochs_range, loss, label='Training Loss')\n",
    "plt.plot(epochs_range, val_loss, label='Validation Loss')\n",
    "plt.legend(loc='upper right')\n",
    "plt.title('Training and Validation Loss')\n",
    "plt.show()"
   ]
  },
  {
   "cell_type": "markdown",
   "metadata": {},
   "source": [
    "##### the model uses 5,549,669 Trainable params and has  91.9% as accuracy on train set and 77% on validation set. "
   ]
  },
  {
   "cell_type": "markdown",
   "metadata": {},
   "source": [
    "# Model4"
   ]
  },
  {
   "cell_type": "markdown",
   "metadata": {},
   "source": [
    "### This is 3D CNN + LSTM architecture to process the video frames. It has 2 Convlolution layers with 32 and 64 kernels of (3x3x3) and a LSTM layer with 128 neurons.Using Image size as 80x80"
   ]
  },
  {
   "cell_type": "code",
   "execution_count": 34,
   "metadata": {},
   "outputs": [
    {
     "name": "stdout",
     "output_type": "stream",
     "text": [
      "# training sequences = 663\n",
      "# validation sequences = 100\n"
     ]
    }
   ],
   "source": [
    "curr_dt_time = datetime.datetime.now()\n",
    "train_path = '/home/datasets/Project_data/train'\n",
    "val_path = '/home/datasets/Project_data/val'\n",
    "num_train_sequences = len(train_doc)\n",
    "print('# training sequences =', num_train_sequences)\n",
    "num_val_sequences = len(val_doc)\n",
    "print('# validation sequences =', num_val_sequences)\n",
    "\n",
    "\n"
   ]
  },
  {
   "cell_type": "code",
   "execution_count": null,
   "metadata": {},
   "outputs": [],
   "source": []
  },
  {
   "cell_type": "code",
   "execution_count": 35,
   "metadata": {},
   "outputs": [],
   "source": [
    "def generator(source_path, folder_list, batch_size):\n",
    "    print( 'Source path = ', source_path, '; batch size =', batch_size)\n",
    "    img_idx =[2,4,6,8,10,12,14,16,18,20,22,24,26] #create a list of image numbers you want to use for a particular video\n",
    "    while True:\n",
    "        t = np.random.permutation(folder_list)\n",
    "        num_batches = len(t) // batch_size # calculate the number of batches\n",
    "        for batch in range(num_batches): # we iterate over the number of batches\n",
    "            batch_data = np.zeros((batch_size,13,80,80,3)) # x is the number of images you use for each video, (y,z) is the final size of the input images and 3 is the number of channels RGB\n",
    "            batch_labels = np.zeros((batch_size,5)) # batch_labels is the one hot representation of the output\n",
    "            for folder in range(batch_size): # iterate over the batch_size\n",
    "                imgs = os.listdir(source_path+'/'+ t[folder + (batch*batch_size)].split(';')[0]) # read all the images in the folder\n",
    "                for idx,item in enumerate(img_idx): #  Iterate iver the frames/images of a folder to read them in\n",
    "                    image = imread(source_path+'/'+ t[folder + (batch*batch_size)].strip().split(';')[0]+'/'+imgs[item]).astype(np.float32)\n",
    "                    \n",
    "                    #crop the images and resize them. Note that the images are of 2 different shape \n",
    "                    image = resize(image,(80,80)).astype(np.float32)\n",
    "                    #and the conv3D will throw error if the inputs in a batch have different shapes\n",
    "                    \n",
    "                    batch_data[folder,idx,:,:,0] = (image[:,:,0])/255  #normalise and feed in the image\n",
    "                    batch_data[folder,idx,:,:,1] = (image[:,:,1])/255  #normalise and feed in the image\n",
    "                    batch_data[folder,idx,:,:,2] = (image[:,:,2])/255  #normalise and feed in the image\n",
    "                    \n",
    "                batch_labels[folder, int(t[folder + (batch*batch_size)].strip().split(';')[2])] = 1\n",
    "            yield batch_data, batch_labels #you yield the batch_data and the batch_labels, remember what does yield do\n",
    "\n",
    "        \n",
    "        # write the code for the remaining data points which are left after full batches\n",
    "        if len(t) % batch_size != 0:\n",
    "            batch_data = np.zeros((batch_size,13,80,80,3)) \n",
    "            batch_labels = np.zeros((batch_size,5)) # batch_labels is the one hot representation of the output\n",
    "            for folder in range(batch_size): # iterate over the batch_size\n",
    "                imgs = os.listdir(source_path+'/'+ t[folder + (batch*batch_size)].split(';')[0]) # read all the images in the folder\n",
    "                for idx,item in enumerate(img_idx): #  Iterate iver the frames/images of a folder to read them in\n",
    "                    image = imread(source_path+'/'+ t[folder + (batch*batch_size)].strip().split(';')[0]+'/'+imgs[item]).astype(np.float32)\n",
    "                    image = resize(image,(80,80)).astype(np.float32)\n",
    "                    batch_data[folder,idx,:,:,0] = (image[:,:,0])/255\n",
    "                    batch_data[folder,idx,:,:,1] = (image[:,:,1])/255\n",
    "                    batch_data[folder,idx,:,:,2] = (image[:,:,2])/255\n",
    "                batch_labels[folder, int(t[folder + (batch*batch_size)].strip().split(';')[2])] = 1 \n",
    "            yield batch_data, batch_labels\n"
   ]
  },
  {
   "cell_type": "code",
   "execution_count": 36,
   "metadata": {},
   "outputs": [],
   "source": [
    "\n",
    "model = Sequential()\n",
    "model.add(Conv3D(32, (3, 3, 3), padding='same',\n",
    "         input_shape=(13,80,80,3)))\n",
    "model.add(Activation('relu'))\n",
    "model.add(BatchNormalization())\n",
    "model.add(MaxPooling3D(pool_size=(2, 2, 2)))\n",
    "\n",
    "model.add(Conv3D(64, (3, 3, 3), padding='same'))\n",
    "model.add(Activation('relu'))\n",
    "model.add(BatchNormalization())\n",
    "model.add(MaxPooling3D(pool_size=(2, 2, 2)))\n",
    "\n",
    "model.add(TimeDistributed(Flatten()))\n",
    "model.add(LSTM(128))\n",
    "model.add(Dropout(0.5))\n",
    "\n",
    "model.add(Dense(64,activation='relu'))\n",
    "model.add(BatchNormalization())\n",
    "model.add(Dropout(0.25))\n",
    "\n",
    "model.add(Dense(5,activation='softmax'))"
   ]
  },
  {
   "cell_type": "code",
   "execution_count": 37,
   "metadata": {},
   "outputs": [
    {
     "name": "stdout",
     "output_type": "stream",
     "text": [
      "Model: \"sequential_4\"\n",
      "_________________________________________________________________\n",
      " Layer (type)                Output Shape              Param #   \n",
      "=================================================================\n",
      " conv3d_8 (Conv3D)           (None, 13, 80, 80, 32)    2624      \n",
      "                                                                 \n",
      " activation_8 (Activation)   (None, 13, 80, 80, 32)    0         \n",
      "                                                                 \n",
      " batch_normalization_16 (Bat  (None, 13, 80, 80, 32)   128       \n",
      " chNormalization)                                                \n",
      "                                                                 \n",
      " max_pooling3d_8 (MaxPooling  (None, 6, 40, 40, 32)    0         \n",
      " 3D)                                                             \n",
      "                                                                 \n",
      " conv3d_9 (Conv3D)           (None, 6, 40, 40, 64)     55360     \n",
      "                                                                 \n",
      " activation_9 (Activation)   (None, 6, 40, 40, 64)     0         \n",
      "                                                                 \n",
      " batch_normalization_17 (Bat  (None, 6, 40, 40, 64)    256       \n",
      " chNormalization)                                                \n",
      "                                                                 \n",
      " max_pooling3d_9 (MaxPooling  (None, 3, 20, 20, 64)    0         \n",
      " 3D)                                                             \n",
      "                                                                 \n",
      " time_distributed (TimeDistr  (None, 3, 25600)         0         \n",
      " ibuted)                                                         \n",
      "                                                                 \n",
      " lstm (LSTM)                 (None, 128)               13173248  \n",
      "                                                                 \n",
      " dropout_8 (Dropout)         (None, 128)               0         \n",
      "                                                                 \n",
      " dense_12 (Dense)            (None, 64)                8256      \n",
      "                                                                 \n",
      " batch_normalization_18 (Bat  (None, 64)               256       \n",
      " chNormalization)                                                \n",
      "                                                                 \n",
      " dropout_9 (Dropout)         (None, 64)                0         \n",
      "                                                                 \n",
      " dense_13 (Dense)            (None, 5)                 325       \n",
      "                                                                 \n",
      "=================================================================\n",
      "Total params: 13,240,453\n",
      "Trainable params: 13,240,133\n",
      "Non-trainable params: 320\n",
      "_________________________________________________________________\n",
      "None\n"
     ]
    }
   ],
   "source": [
    "optimiser = 'sgd'\n",
    "model.compile(optimizer=optimiser, loss='categorical_crossentropy', metrics=['categorical_accuracy'])\n",
    "print (model.summary())"
   ]
  },
  {
   "cell_type": "code",
   "execution_count": 38,
   "metadata": {},
   "outputs": [],
   "source": [
    "batch_size = 20\n",
    "num_epochs = 25"
   ]
  },
  {
   "cell_type": "code",
   "execution_count": 39,
   "metadata": {},
   "outputs": [],
   "source": [
    "train_generator = generator(train_path, train_doc, batch_size)\n",
    "val_generator = generator(val_path, val_doc, batch_size)\n",
    "\n",
    "if (num_train_sequences%batch_size) == 0:\n",
    "    steps_per_epoch = int(num_train_sequences/batch_size)\n",
    "else:\n",
    "    steps_per_epoch = (num_train_sequences//batch_size) + 1\n",
    "\n",
    "if (num_val_sequences%batch_size) == 0:\n",
    "    validation_steps = int(num_val_sequences/batch_size)\n",
    "else:\n",
    "    validation_steps = (num_val_sequences//batch_size) + 1"
   ]
  },
  {
   "cell_type": "code",
   "execution_count": 40,
   "metadata": {},
   "outputs": [
    {
     "name": "stdout",
     "output_type": "stream",
     "text": [
      "Source path =  /home/datasets/Project_data/train ; batch size = 20\n",
      "Epoch 1/25\n",
      "34/34 [==============================] - ETA: 0s - loss: 1.9585 - categorical_accuracy: 0.2588Source path =  /home/datasets/Project_data/val ; batch size = 20\n",
      "\n",
      "Epoch 00001: saving model to model_init_2025-03-3116_16_10.181665/model-00001-1.95850-0.25882-1.69530-0.17000.h5\n",
      "34/34 [==============================] - 72s 2s/step - loss: 1.9585 - categorical_accuracy: 0.2588 - val_loss: 1.6953 - val_categorical_accuracy: 0.1700 - lr: 0.0100\n",
      "Epoch 2/25\n",
      "34/34 [==============================] - ETA: 0s - loss: 1.5847 - categorical_accuracy: 0.3809\n",
      "Epoch 00002: saving model to model_init_2025-03-3116_16_10.181665/model-00002-1.58466-0.38088-1.73925-0.15000.h5\n",
      "34/34 [==============================] - 70s 2s/step - loss: 1.5847 - categorical_accuracy: 0.3809 - val_loss: 1.7392 - val_categorical_accuracy: 0.1500 - lr: 0.0100\n",
      "Epoch 3/25\n",
      "34/34 [==============================] - ETA: 0s - loss: 1.3951 - categorical_accuracy: 0.4471\n",
      "Epoch 00003: saving model to model_init_2025-03-3116_16_10.181665/model-00003-1.39513-0.44706-1.86263-0.18000.h5\n",
      "34/34 [==============================] - 69s 2s/step - loss: 1.3951 - categorical_accuracy: 0.4471 - val_loss: 1.8626 - val_categorical_accuracy: 0.1800 - lr: 0.0100\n",
      "Epoch 4/25\n",
      "34/34 [==============================] - ETA: 0s - loss: 1.4247 - categorical_accuracy: 0.4132\n",
      "Epoch 00004: saving model to model_init_2025-03-3116_16_10.181665/model-00004-1.42469-0.41324-1.76499-0.19000.h5\n",
      "34/34 [==============================] - 69s 2s/step - loss: 1.4247 - categorical_accuracy: 0.4132 - val_loss: 1.7650 - val_categorical_accuracy: 0.1900 - lr: 0.0100\n",
      "Epoch 5/25\n",
      "34/34 [==============================] - ETA: 0s - loss: 1.2399 - categorical_accuracy: 0.4941\n",
      "Epoch 00005: saving model to model_init_2025-03-3116_16_10.181665/model-00005-1.23987-0.49412-1.65066-0.32000.h5\n",
      "34/34 [==============================] - 70s 2s/step - loss: 1.2399 - categorical_accuracy: 0.4941 - val_loss: 1.6507 - val_categorical_accuracy: 0.3200 - lr: 0.0100\n",
      "Epoch 6/25\n",
      "34/34 [==============================] - ETA: 0s - loss: 1.1734 - categorical_accuracy: 0.5338\n",
      "Epoch 00006: saving model to model_init_2025-03-3116_16_10.181665/model-00006-1.17337-0.53382-1.86250-0.19000.h5\n",
      "34/34 [==============================] - 69s 2s/step - loss: 1.1734 - categorical_accuracy: 0.5338 - val_loss: 1.8625 - val_categorical_accuracy: 0.1900 - lr: 0.0100\n",
      "Epoch 7/25\n",
      "34/34 [==============================] - ETA: 0s - loss: 1.0729 - categorical_accuracy: 0.5676\n",
      "Epoch 00007: saving model to model_init_2025-03-3116_16_10.181665/model-00007-1.07292-0.56765-1.27089-0.44000.h5\n",
      "34/34 [==============================] - 70s 2s/step - loss: 1.0729 - categorical_accuracy: 0.5676 - val_loss: 1.2709 - val_categorical_accuracy: 0.4400 - lr: 0.0100\n",
      "Epoch 8/25\n",
      "34/34 [==============================] - ETA: 0s - loss: 0.9360 - categorical_accuracy: 0.6368\n",
      "Epoch 00008: saving model to model_init_2025-03-3116_16_10.181665/model-00008-0.93600-0.63676-1.70696-0.35000.h5\n",
      "34/34 [==============================] - 68s 2s/step - loss: 0.9360 - categorical_accuracy: 0.6368 - val_loss: 1.7070 - val_categorical_accuracy: 0.3500 - lr: 0.0100\n",
      "Epoch 9/25\n",
      "34/34 [==============================] - ETA: 0s - loss: 0.8939 - categorical_accuracy: 0.6426\n",
      "Epoch 00009: saving model to model_init_2025-03-3116_16_10.181665/model-00009-0.89391-0.64265-1.84622-0.23000.h5\n",
      "34/34 [==============================] - 69s 2s/step - loss: 0.8939 - categorical_accuracy: 0.6426 - val_loss: 1.8462 - val_categorical_accuracy: 0.2300 - lr: 0.0100\n",
      "Epoch 10/25\n",
      "34/34 [==============================] - ETA: 0s - loss: 0.8020 - categorical_accuracy: 0.6882\n",
      "Epoch 00010: saving model to model_init_2025-03-3116_16_10.181665/model-00010-0.80204-0.68824-2.04979-0.27000.h5\n",
      "34/34 [==============================] - 69s 2s/step - loss: 0.8020 - categorical_accuracy: 0.6882 - val_loss: 2.0498 - val_categorical_accuracy: 0.2700 - lr: 0.0100\n",
      "Epoch 11/25\n",
      "34/34 [==============================] - ETA: 0s - loss: 0.6989 - categorical_accuracy: 0.7279\n",
      "Epoch 00011: saving model to model_init_2025-03-3116_16_10.181665/model-00011-0.69892-0.72794-2.18841-0.30000.h5\n",
      "\n",
      "Epoch 00011: ReduceLROnPlateau reducing learning rate to 0.0019999999552965165.\n",
      "34/34 [==============================] - 68s 2s/step - loss: 0.6989 - categorical_accuracy: 0.7279 - val_loss: 2.1884 - val_categorical_accuracy: 0.3000 - lr: 0.0100\n",
      "Epoch 12/25\n",
      "34/34 [==============================] - ETA: 0s - loss: 0.6285 - categorical_accuracy: 0.7574\n",
      "Epoch 00012: saving model to model_init_2025-03-3116_16_10.181665/model-00012-0.62853-0.75735-1.50267-0.40000.h5\n",
      "34/34 [==============================] - 70s 2s/step - loss: 0.6285 - categorical_accuracy: 0.7574 - val_loss: 1.5027 - val_categorical_accuracy: 0.4000 - lr: 0.0020\n",
      "Epoch 13/25\n",
      "34/34 [==============================] - ETA: 0s - loss: 0.6405 - categorical_accuracy: 0.7574\n",
      "Epoch 00013: saving model to model_init_2025-03-3116_16_10.181665/model-00013-0.64051-0.75735-1.48622-0.44000.h5\n",
      "34/34 [==============================] - 69s 2s/step - loss: 0.6405 - categorical_accuracy: 0.7574 - val_loss: 1.4862 - val_categorical_accuracy: 0.4400 - lr: 0.0020\n",
      "Epoch 14/25\n",
      "34/34 [==============================] - ETA: 0s - loss: 0.5859 - categorical_accuracy: 0.7529\n",
      "Epoch 00014: saving model to model_init_2025-03-3116_16_10.181665/model-00014-0.58588-0.75294-0.97356-0.63000.h5\n",
      "34/34 [==============================] - 71s 2s/step - loss: 0.5859 - categorical_accuracy: 0.7529 - val_loss: 0.9736 - val_categorical_accuracy: 0.6300 - lr: 0.0020\n",
      "Epoch 15/25\n",
      "34/34 [==============================] - ETA: 0s - loss: 0.5701 - categorical_accuracy: 0.7779\n",
      "Epoch 00015: saving model to model_init_2025-03-3116_16_10.181665/model-00015-0.57010-0.77794-0.98722-0.67000.h5\n",
      "34/34 [==============================] - 70s 2s/step - loss: 0.5701 - categorical_accuracy: 0.7779 - val_loss: 0.9872 - val_categorical_accuracy: 0.6700 - lr: 0.0020\n",
      "Epoch 16/25\n",
      "34/34 [==============================] - ETA: 0s - loss: 0.5504 - categorical_accuracy: 0.7912\n",
      "Epoch 00016: saving model to model_init_2025-03-3116_16_10.181665/model-00016-0.55039-0.79118-1.00265-0.66000.h5\n",
      "34/34 [==============================] - 69s 2s/step - loss: 0.5504 - categorical_accuracy: 0.7912 - val_loss: 1.0026 - val_categorical_accuracy: 0.6600 - lr: 0.0020\n",
      "Epoch 17/25\n",
      "34/34 [==============================] - ETA: 0s - loss: 0.4979 - categorical_accuracy: 0.8103\n",
      "Epoch 00017: saving model to model_init_2025-03-3116_16_10.181665/model-00017-0.49788-0.81029-1.18027-0.58000.h5\n",
      "34/34 [==============================] - 74s 2s/step - loss: 0.4979 - categorical_accuracy: 0.8103 - val_loss: 1.1803 - val_categorical_accuracy: 0.5800 - lr: 0.0020\n",
      "Epoch 18/25\n",
      "34/34 [==============================] - ETA: 0s - loss: 0.4655 - categorical_accuracy: 0.8441\n",
      "Epoch 00018: saving model to model_init_2025-03-3116_16_10.181665/model-00018-0.46545-0.84412-1.30034-0.58000.h5\n",
      "\n",
      "Epoch 00018: ReduceLROnPlateau reducing learning rate to 0.0003999999724328518.\n",
      "34/34 [==============================] - 94s 3s/step - loss: 0.4655 - categorical_accuracy: 0.8441 - val_loss: 1.3003 - val_categorical_accuracy: 0.5800 - lr: 0.0020\n",
      "Epoch 19/25\n",
      "34/34 [==============================] - ETA: 0s - loss: 0.4607 - categorical_accuracy: 0.8309\n",
      "Epoch 00019: saving model to model_init_2025-03-3116_16_10.181665/model-00019-0.46072-0.83088-1.08999-0.59000.h5\n",
      "34/34 [==============================] - 90s 3s/step - loss: 0.4607 - categorical_accuracy: 0.8309 - val_loss: 1.0900 - val_categorical_accuracy: 0.5900 - lr: 4.0000e-04\n",
      "Epoch 20/25\n",
      "34/34 [==============================] - ETA: 0s - loss: 0.4835 - categorical_accuracy: 0.8368\n",
      "Epoch 00020: saving model to model_init_2025-03-3116_16_10.181665/model-00020-0.48351-0.83676-1.00832-0.64000.h5\n",
      "34/34 [==============================] - 71s 2s/step - loss: 0.4835 - categorical_accuracy: 0.8368 - val_loss: 1.0083 - val_categorical_accuracy: 0.6400 - lr: 4.0000e-04\n",
      "Epoch 21/25\n",
      "34/34 [==============================] - ETA: 0s - loss: 0.4661 - categorical_accuracy: 0.8324\n",
      "Epoch 00021: saving model to model_init_2025-03-3116_16_10.181665/model-00021-0.46608-0.83235-0.87942-0.69000.h5\n",
      "34/34 [==============================] - 72s 2s/step - loss: 0.4661 - categorical_accuracy: 0.8324 - val_loss: 0.8794 - val_categorical_accuracy: 0.6900 - lr: 4.0000e-04\n",
      "Epoch 22/25\n",
      "34/34 [==============================] - ETA: 0s - loss: 0.4336 - categorical_accuracy: 0.8588\n",
      "Epoch 00022: saving model to model_init_2025-03-3116_16_10.181665/model-00022-0.43365-0.85882-0.64384-0.78000.h5\n",
      "34/34 [==============================] - 73s 2s/step - loss: 0.4336 - categorical_accuracy: 0.8588 - val_loss: 0.6438 - val_categorical_accuracy: 0.7800 - lr: 4.0000e-04\n",
      "Epoch 23/25\n",
      "34/34 [==============================] - ETA: 0s - loss: 0.4699 - categorical_accuracy: 0.8294\n",
      "Epoch 00023: saving model to model_init_2025-03-3116_16_10.181665/model-00023-0.46993-0.82941-0.82614-0.67000.h5\n",
      "34/34 [==============================] - 75s 2s/step - loss: 0.4699 - categorical_accuracy: 0.8294 - val_loss: 0.8261 - val_categorical_accuracy: 0.6700 - lr: 4.0000e-04\n",
      "Epoch 24/25\n",
      "34/34 [==============================] - ETA: 0s - loss: 0.4145 - categorical_accuracy: 0.8529\n",
      "Epoch 00024: saving model to model_init_2025-03-3116_16_10.181665/model-00024-0.41447-0.85294-0.80983-0.74000.h5\n",
      "34/34 [==============================] - 75s 2s/step - loss: 0.4145 - categorical_accuracy: 0.8529 - val_loss: 0.8098 - val_categorical_accuracy: 0.7400 - lr: 4.0000e-04\n",
      "Epoch 25/25\n",
      "34/34 [==============================] - ETA: 0s - loss: 0.4535 - categorical_accuracy: 0.8471\n",
      "Epoch 00025: saving model to model_init_2025-03-3116_16_10.181665/model-00025-0.45350-0.84706-0.68628-0.77000.h5\n",
      "34/34 [==============================] - 71s 2s/step - loss: 0.4535 - categorical_accuracy: 0.8471 - val_loss: 0.6863 - val_categorical_accuracy: 0.7700 - lr: 4.0000e-04\n"
     ]
    }
   ],
   "source": [
    "history = model.fit(train_generator, steps_per_epoch=steps_per_epoch, epochs=num_epochs, verbose=1, \n",
    "                    callbacks=callbacks_list, validation_data=val_generator, \n",
    "                    validation_steps=validation_steps, class_weight=None, workers=1, initial_epoch=0)"
   ]
  },
  {
   "cell_type": "code",
   "execution_count": 42,
   "metadata": {},
   "outputs": [
    {
     "data": {
      "text/plain": [
       "<Figure size 720x720 with 0 Axes>"
      ]
     },
     "metadata": {},
     "output_type": "display_data"
    },
    {
     "data": {
      "image/png": "[encoded data removed]",
      "text/plain": [
       "<Figure size 576x576 with 2 Axes>"
      ]
     },
     "metadata": {
      "needs_background": "light"
     },
     "output_type": "display_data"
    }
   ],
   "source": [
    "plt.figure(figsize = (10,10))\n",
    "\n",
    "acc = history.history['categorical_accuracy']\n",
    "val_acc = history.history['val_categorical_accuracy']\n",
    "\n",
    "loss = history.history['loss']\n",
    "val_loss = history.history['val_loss']\n",
    "\n",
    "epochs_range = range(num_epochs)\n",
    "\n",
    "plt.figure(figsize=(8, 8))\n",
    "plt.subplot(1, 2, 1)\n",
    "plt.plot(epochs_range, acc, label='Training Accuracy')\n",
    "plt.plot(epochs_range, val_acc, label='Validation Accuracy')\n",
    "plt.legend(loc='lower right')\n",
    "plt.title('Training and Validation Accuracy')\n",
    "\n",
    "plt.subplot(1, 2, 2)\n",
    "plt.plot(epochs_range, loss, label='Training Loss')\n",
    "plt.plot(epochs_range, val_loss, label='Validation Loss')\n",
    "plt.legend(loc='upper right')\n",
    "plt.title('Training and Validation Loss')\n",
    "plt.show()"
   ]
  },
  {
   "cell_type": "markdown",
   "metadata": {},
   "source": [
    "##### the model uses 13,240,133 Trainable params and has  84.7% as accuracy on train set and 77% on validation set. "
   ]
  },
  {
   "cell_type": "markdown",
   "metadata": {},
   "source": [
    "# Model 5"
   ]
  },
  {
   "cell_type": "markdown",
   "metadata": {},
   "source": [
    "### This is 2D CNN + LSTM architecture to process the video frames. It has 4 Convlolution layers with 16,32,64 and 128 kernels of (3x3) and a LSTM layer with 128 neurons.Using Image size as 80x80"
   ]
  },
  {
   "cell_type": "code",
   "execution_count": 43,
   "metadata": {},
   "outputs": [],
   "source": [
    "from keras.layers import Conv2D,MaxPooling2D\n",
    "\n",
    "model = Sequential()\n",
    "\n",
    "model.add(TimeDistributed(Conv2D(16, (3, 3), padding='same', activation='relu'),\n",
    "            input_shape=(13, 80,80,3)))\n",
    "model.add(TimeDistributed(BatchNormalization()))\n",
    "model.add(TimeDistributed(MaxPooling2D(pool_size=(2,2))))\n",
    "\n",
    "model.add(TimeDistributed(Conv2D(32, (3,3), padding='same', activation='relu')))\n",
    "model.add(TimeDistributed(BatchNormalization()))\n",
    "model.add(TimeDistributed(MaxPooling2D(pool_size=(2,2))))\n",
    "\n",
    "model.add(TimeDistributed(Conv2D(64, (3,3), padding='same', activation='relu')))\n",
    "model.add(TimeDistributed(BatchNormalization()))\n",
    "model.add(TimeDistributed(MaxPooling2D(pool_size=(2,2))))\n",
    "\n",
    "model.add(TimeDistributed(Conv2D(128, (3,3), padding='same', activation='relu')))\n",
    "model.add(TimeDistributed(BatchNormalization()))\n",
    "model.add(TimeDistributed(MaxPooling2D(pool_size=(2,2))))\n",
    "\n",
    "model.add(TimeDistributed(Flatten()))\n",
    "model.add(LSTM(128))\n",
    "model.add(Dropout(0.5))\n",
    "\n",
    "model.add(Dense(64,activation='relu'))\n",
    "model.add(BatchNormalization())\n",
    "model.add(Dropout(0.25))\n",
    "\n",
    "model.add(Dense(5,activation='softmax'))"
   ]
  },
  {
   "cell_type": "code",
   "execution_count": 44,
   "metadata": {},
   "outputs": [
    {
     "name": "stdout",
     "output_type": "stream",
     "text": [
      "Model: \"sequential_5\"\n",
      "_________________________________________________________________\n",
      " Layer (type)                Output Shape              Param #   \n",
      "=================================================================\n",
      " time_distributed_1 (TimeDis  (None, 13, 80, 80, 16)   448       \n",
      " tributed)                                                       \n",
      "                                                                 \n",
      " time_distributed_2 (TimeDis  (None, 13, 80, 80, 16)   64        \n",
      " tributed)                                                       \n",
      "                                                                 \n",
      " time_distributed_3 (TimeDis  (None, 13, 40, 40, 16)   0         \n",
      " tributed)                                                       \n",
      "                                                                 \n",
      " time_distributed_4 (TimeDis  (None, 13, 40, 40, 32)   4640      \n",
      " tributed)                                                       \n",
      "                                                                 \n",
      " time_distributed_5 (TimeDis  (None, 13, 40, 40, 32)   128       \n",
      " tributed)                                                       \n",
      "                                                                 \n",
      " time_distributed_6 (TimeDis  (None, 13, 20, 20, 32)   0         \n",
      " tributed)                                                       \n",
      "                                                                 \n",
      " time_distributed_7 (TimeDis  (None, 13, 20, 20, 64)   18496     \n",
      " tributed)                                                       \n",
      "                                                                 \n",
      " time_distributed_8 (TimeDis  (None, 13, 20, 20, 64)   256       \n",
      " tributed)                                                       \n",
      "                                                                 \n",
      " time_distributed_9 (TimeDis  (None, 13, 10, 10, 64)   0         \n",
      " tributed)                                                       \n",
      "                                                                 \n",
      " time_distributed_10 (TimeDi  (None, 13, 10, 10, 128)  73856     \n",
      " stributed)                                                      \n",
      "                                                                 \n",
      " time_distributed_11 (TimeDi  (None, 13, 10, 10, 128)  512       \n",
      " stributed)                                                      \n",
      "                                                                 \n",
      " time_distributed_12 (TimeDi  (None, 13, 5, 5, 128)    0         \n",
      " stributed)                                                      \n",
      "                                                                 \n",
      " time_distributed_13 (TimeDi  (None, 13, 3200)         0         \n",
      " stributed)                                                      \n",
      "                                                                 \n",
      " lstm_1 (LSTM)               (None, 128)               1704448   \n",
      "                                                                 \n",
      " dropout_10 (Dropout)        (None, 128)               0         \n",
      "                                                                 \n",
      " dense_14 (Dense)            (None, 64)                8256      \n",
      "                                                                 \n",
      " batch_normalization_23 (Bat  (None, 64)               256       \n",
      " chNormalization)                                                \n",
      "                                                                 \n",
      " dropout_11 (Dropout)        (None, 64)                0         \n",
      "                                                                 \n",
      " dense_15 (Dense)            (None, 5)                 325       \n",
      "                                                                 \n",
      "=================================================================\n",
      "Total params: 1,811,685\n",
      "Trainable params: 1,811,077\n",
      "Non-trainable params: 608\n",
      "_________________________________________________________________\n",
      "None\n"
     ]
    }
   ],
   "source": [
    "optimiser = 'sgd'\n",
    "model.compile(optimizer=optimiser, loss='categorical_crossentropy', metrics=['categorical_accuracy'])\n",
    "print (model.summary())"
   ]
  },
  {
   "cell_type": "code",
   "execution_count": 46,
   "metadata": {},
   "outputs": [],
   "source": [
    "batch_size = 20\n",
    "num_epochs = 25"
   ]
  },
  {
   "cell_type": "code",
   "execution_count": 48,
   "metadata": {},
   "outputs": [],
   "source": [
    "train_generator = generator(train_path, train_doc, batch_size)\n",
    "val_generator = generator(val_path, val_doc, batch_size)"
   ]
  },
  {
   "cell_type": "code",
   "execution_count": 49,
   "metadata": {},
   "outputs": [],
   "source": [
    "if (num_train_sequences%batch_size) == 0:\n",
    "    steps_per_epoch = int(num_train_sequences/batch_size)\n",
    "else:\n",
    "    steps_per_epoch = (num_train_sequences//batch_size) + 1\n",
    "\n",
    "if (num_val_sequences%batch_size) == 0:\n",
    "    validation_steps = int(num_val_sequences/batch_size)\n",
    "else:\n",
    "    validation_steps = (num_val_sequences//batch_size) + 1"
   ]
  },
  {
   "cell_type": "code",
   "execution_count": 50,
   "metadata": {},
   "outputs": [
    {
     "name": "stdout",
     "output_type": "stream",
     "text": [
      "Source path =  /home/datasets/Project_data/train ; batch size = 20\n",
      "Epoch 1/25\n",
      "34/34 [==============================] - ETA: 0s - loss: 2.0371 - categorical_accuracy: 0.2765Source path =  /home/datasets/Project_data/val ; batch size = 20\n",
      "\n",
      "Epoch 00001: saving model to model_init_2025-03-3116_16_10.181665/model-00001-2.03713-0.27647-1.66164-0.18000.h5\n",
      "34/34 [==============================] - 73s 2s/step - loss: 2.0371 - categorical_accuracy: 0.2765 - val_loss: 1.6616 - val_categorical_accuracy: 0.1800 - lr: 0.0100\n",
      "Epoch 2/25\n",
      "33/34 [============================>.] - ETA: 1s - loss: 1.5840 - categorical_accuracy: 0.3712\n",
      "Epoch 00002: saving model to model_init_2025-03-3116_16_10.181665/model-00002-1.56481-0.37941-1.76462-0.17000.h5\n",
      "34/34 [==============================] - 68s 2s/step - loss: 1.5648 - categorical_accuracy: 0.3794 - val_loss: 1.7646 - val_categorical_accuracy: 0.1700 - lr: 0.0100\n",
      "Epoch 3/25\n",
      "34/34 [==============================] - ETA: 0s - loss: 1.5331 - categorical_accuracy: 0.4191\n",
      "Epoch 00003: saving model to model_init_2025-03-3116_16_10.181665/model-00003-1.53308-0.41912-1.77752-0.25000.h5\n",
      "34/34 [==============================] - 68s 2s/step - loss: 1.5331 - categorical_accuracy: 0.4191 - val_loss: 1.7775 - val_categorical_accuracy: 0.2500 - lr: 0.0100\n",
      "Epoch 4/25\n",
      "34/34 [==============================] - ETA: 0s - loss: 1.4625 - categorical_accuracy: 0.4382\n",
      "Epoch 00004: saving model to model_init_2025-03-3116_16_10.181665/model-00004-1.46246-0.43824-1.89502-0.23000.h5\n",
      "34/34 [==============================] - 69s 2s/step - loss: 1.4625 - categorical_accuracy: 0.4382 - val_loss: 1.8950 - val_categorical_accuracy: 0.2300 - lr: 0.0100\n",
      "Epoch 5/25\n",
      "34/34 [==============================] - ETA: 0s - loss: 1.2554 - categorical_accuracy: 0.5029\n",
      "Epoch 00005: saving model to model_init_2025-03-3116_16_10.181665/model-00005-1.25535-0.50294-2.33020-0.12000.h5\n",
      "\n",
      "Epoch 00005: ReduceLROnPlateau reducing learning rate to 0.0019999999552965165.\n",
      "34/34 [==============================] - 69s 2s/step - loss: 1.2554 - categorical_accuracy: 0.5029 - val_loss: 2.3302 - val_categorical_accuracy: 0.1200 - lr: 0.0100\n",
      "Epoch 6/25\n",
      "34/34 [==============================] - ETA: 0s - loss: 1.2253 - categorical_accuracy: 0.5088\n",
      "Epoch 00006: saving model to model_init_2025-03-3116_16_10.181665/model-00006-1.22532-0.50882-2.40147-0.20000.h5\n",
      "34/34 [==============================] - 68s 2s/step - loss: 1.2253 - categorical_accuracy: 0.5088 - val_loss: 2.4015 - val_categorical_accuracy: 0.2000 - lr: 0.0020\n",
      "Epoch 7/25\n",
      "34/34 [==============================] - ETA: 0s - loss: 1.1962 - categorical_accuracy: 0.5132\n",
      "Epoch 00007: saving model to model_init_2025-03-3116_16_10.181665/model-00007-1.19622-0.51324-2.55746-0.20000.h5\n",
      "34/34 [==============================] - 68s 2s/step - loss: 1.1962 - categorical_accuracy: 0.5132 - val_loss: 2.5575 - val_categorical_accuracy: 0.2000 - lr: 0.0020\n",
      "Epoch 8/25\n",
      "34/34 [==============================] - ETA: 0s - loss: 1.1208 - categorical_accuracy: 0.5397\n",
      "Epoch 00008: saving model to model_init_2025-03-3116_16_10.181665/model-00008-1.12080-0.53971-2.28274-0.22000.h5\n",
      "34/34 [==============================] - 68s 2s/step - loss: 1.1208 - categorical_accuracy: 0.5397 - val_loss: 2.2827 - val_categorical_accuracy: 0.2200 - lr: 0.0020\n",
      "Epoch 9/25\n",
      "34/34 [==============================] - ETA: 0s - loss: 1.0587 - categorical_accuracy: 0.5765\n",
      "Epoch 00009: saving model to model_init_2025-03-3116_16_10.181665/model-00009-1.05870-0.57647-2.36088-0.26000.h5\n",
      "\n",
      "Epoch 00009: ReduceLROnPlateau reducing learning rate to 0.0003999999724328518.\n",
      "34/34 [==============================] - 67s 2s/step - loss: 1.0587 - categorical_accuracy: 0.5765 - val_loss: 2.3609 - val_categorical_accuracy: 0.2600 - lr: 0.0020\n",
      "Epoch 10/25\n",
      "34/34 [==============================] - ETA: 0s - loss: 1.0102 - categorical_accuracy: 0.5926\n",
      "Epoch 00010: saving model to model_init_2025-03-3116_16_10.181665/model-00010-1.01022-0.59265-2.07489-0.26000.h5\n",
      "34/34 [==============================] - 67s 2s/step - loss: 1.0102 - categorical_accuracy: 0.5926 - val_loss: 2.0749 - val_categorical_accuracy: 0.2600 - lr: 4.0000e-04\n",
      "Epoch 11/25\n",
      "34/34 [==============================] - ETA: 0s - loss: 1.0282 - categorical_accuracy: 0.5838\n",
      "Epoch 00011: saving model to model_init_2025-03-3116_16_10.181665/model-00011-1.02818-0.58382-2.05417-0.30000.h5\n",
      "34/34 [==============================] - 69s 2s/step - loss: 1.0282 - categorical_accuracy: 0.5838 - val_loss: 2.0542 - val_categorical_accuracy: 0.3000 - lr: 4.0000e-04\n",
      "Epoch 12/25\n",
      "34/34 [==============================] - ETA: 0s - loss: 1.0248 - categorical_accuracy: 0.6044\n",
      "Epoch 00012: saving model to model_init_2025-03-3116_16_10.181665/model-00012-1.02481-0.60441-1.71802-0.36000.h5\n",
      "34/34 [==============================] - 67s 2s/step - loss: 1.0248 - categorical_accuracy: 0.6044 - val_loss: 1.7180 - val_categorical_accuracy: 0.3600 - lr: 4.0000e-04\n",
      "Epoch 13/25\n",
      "34/34 [==============================] - ETA: 0s - loss: 0.9811 - categorical_accuracy: 0.6147\n",
      "Epoch 00013: saving model to model_init_2025-03-3116_16_10.181665/model-00013-0.98114-0.61471-1.73483-0.37000.h5\n",
      "\n",
      "Epoch 00013: ReduceLROnPlateau reducing learning rate to 7.999999215826393e-05.\n",
      "34/34 [==============================] - 69s 2s/step - loss: 0.9811 - categorical_accuracy: 0.6147 - val_loss: 1.7348 - val_categorical_accuracy: 0.3700 - lr: 4.0000e-04\n",
      "Epoch 14/25\n",
      "34/34 [==============================] - ETA: 0s - loss: 0.9844 - categorical_accuracy: 0.6074\n",
      "Epoch 00014: saving model to model_init_2025-03-3116_16_10.181665/model-00014-0.98439-0.60735-1.29086-0.50000.h5\n",
      "34/34 [==============================] - 68s 2s/step - loss: 0.9844 - categorical_accuracy: 0.6074 - val_loss: 1.2909 - val_categorical_accuracy: 0.5000 - lr: 8.0000e-05\n",
      "Epoch 15/25\n",
      "34/34 [==============================] - ETA: 0s - loss: 1.0356 - categorical_accuracy: 0.5985\n",
      "Epoch 00015: saving model to model_init_2025-03-3116_16_10.181665/model-00015-1.03559-0.59853-1.24055-0.47000.h5\n",
      "34/34 [==============================] - 68s 2s/step - loss: 1.0356 - categorical_accuracy: 0.5985 - val_loss: 1.2406 - val_categorical_accuracy: 0.4700 - lr: 8.0000e-05\n",
      "Epoch 16/25\n",
      "34/34 [==============================] - ETA: 0s - loss: 0.9827 - categorical_accuracy: 0.6088\n",
      "Epoch 00016: saving model to model_init_2025-03-3116_16_10.181665/model-00016-0.98269-0.60882-1.14218-0.52000.h5\n",
      "34/34 [==============================] - 69s 2s/step - loss: 0.9827 - categorical_accuracy: 0.6088 - val_loss: 1.1422 - val_categorical_accuracy: 0.5200 - lr: 8.0000e-05\n",
      "Epoch 17/25\n",
      "34/34 [==============================] - ETA: 0s - loss: 0.9689 - categorical_accuracy: 0.6132\n",
      "Epoch 00017: saving model to model_init_2025-03-3116_16_10.181665/model-00017-0.96894-0.61324-1.00965-0.60000.h5\n",
      "34/34 [==============================] - 70s 2s/step - loss: 0.9689 - categorical_accuracy: 0.6132 - val_loss: 1.0096 - val_categorical_accuracy: 0.6000 - lr: 8.0000e-05\n",
      "Epoch 18/25\n",
      "34/34 [==============================] - ETA: 0s - loss: 0.9623 - categorical_accuracy: 0.5971\n",
      "Epoch 00018: saving model to model_init_2025-03-3116_16_10.181665/model-00018-0.96228-0.59706-1.09003-0.58000.h5\n",
      "34/34 [==============================] - 69s 2s/step - loss: 0.9623 - categorical_accuracy: 0.5971 - val_loss: 1.0900 - val_categorical_accuracy: 0.5800 - lr: 8.0000e-05\n",
      "Epoch 19/25\n",
      "34/34 [==============================] - ETA: 0s - loss: 0.9562 - categorical_accuracy: 0.6206\n",
      "Epoch 00019: saving model to model_init_2025-03-3116_16_10.181665/model-00019-0.95618-0.62059-1.00855-0.54000.h5\n",
      "34/34 [==============================] - 72s 2s/step - loss: 0.9562 - categorical_accuracy: 0.6206 - val_loss: 1.0086 - val_categorical_accuracy: 0.5400 - lr: 8.0000e-05\n",
      "Epoch 20/25\n",
      "34/34 [==============================] - ETA: 0s - loss: 0.9981 - categorical_accuracy: 0.6221\n",
      "Epoch 00020: saving model to model_init_2025-03-3116_16_10.181665/model-00020-0.99810-0.62206-1.00405-0.58000.h5\n",
      "34/34 [==============================] - 72s 2s/step - loss: 0.9981 - categorical_accuracy: 0.6221 - val_loss: 1.0041 - val_categorical_accuracy: 0.5800 - lr: 8.0000e-05\n",
      "Epoch 21/25\n",
      "34/34 [==============================] - ETA: 0s - loss: 0.9298 - categorical_accuracy: 0.6353\n",
      "Epoch 00021: saving model to model_init_2025-03-3116_16_10.181665/model-00021-0.92985-0.63529-0.97954-0.57000.h5\n",
      "34/34 [==============================] - 70s 2s/step - loss: 0.9298 - categorical_accuracy: 0.6353 - val_loss: 0.9795 - val_categorical_accuracy: 0.5700 - lr: 8.0000e-05\n",
      "Epoch 22/25\n",
      "34/34 [==============================] - ETA: 0s - loss: 0.9664 - categorical_accuracy: 0.6118\n",
      "Epoch 00022: saving model to model_init_2025-03-3116_16_10.181665/model-00022-0.96641-0.61176-1.03624-0.57000.h5\n",
      "34/34 [==============================] - 69s 2s/step - loss: 0.9664 - categorical_accuracy: 0.6118 - val_loss: 1.0362 - val_categorical_accuracy: 0.5700 - lr: 8.0000e-05\n",
      "Epoch 23/25\n",
      "34/34 [==============================] - ETA: 0s - loss: 1.0154 - categorical_accuracy: 0.6103\n",
      "Epoch 00023: saving model to model_init_2025-03-3116_16_10.181665/model-00023-1.01537-0.61029-0.96552-0.59000.h5\n",
      "34/34 [==============================] - 69s 2s/step - loss: 1.0154 - categorical_accuracy: 0.6103 - val_loss: 0.9655 - val_categorical_accuracy: 0.5900 - lr: 8.0000e-05\n",
      "Epoch 24/25\n",
      "34/34 [==============================] - ETA: 0s - loss: 0.9297 - categorical_accuracy: 0.6265\n",
      "Epoch 00024: saving model to model_init_2025-03-3116_16_10.181665/model-00024-0.92970-0.62647-0.92525-0.60000.h5\n",
      "34/34 [==============================] - 69s 2s/step - loss: 0.9297 - categorical_accuracy: 0.6265 - val_loss: 0.9253 - val_categorical_accuracy: 0.6000 - lr: 8.0000e-05\n",
      "Epoch 25/25\n",
      "34/34 [==============================] - ETA: 0s - loss: 0.9783 - categorical_accuracy: 0.6118\n",
      "Epoch 00025: saving model to model_init_2025-03-3116_16_10.181665/model-00025-0.97834-0.61176-0.98637-0.59000.h5\n",
      "34/34 [==============================] - 68s 2s/step - loss: 0.9783 - categorical_accuracy: 0.6118 - val_loss: 0.9864 - val_categorical_accuracy: 0.5900 - lr: 8.0000e-05\n"
     ]
    }
   ],
   "source": [
    "history = model.fit(train_generator, steps_per_epoch=steps_per_epoch, epochs=num_epochs, verbose=1, \n",
    "                    callbacks=callbacks_list, validation_data=val_generator, \n",
    "                    validation_steps=validation_steps, class_weight=None, workers=1, initial_epoch=0)"
   ]
  },
  {
   "cell_type": "code",
   "execution_count": 51,
   "metadata": {},
   "outputs": [
    {
     "data": {
      "text/plain": [
       "<Figure size 720x720 with 0 Axes>"
      ]
     },
     "metadata": {},
     "output_type": "display_data"
    },
    {
     "data": {
      "image/png": "[encoded data removed]",
      "text/plain": [
       "<Figure size 576x576 with 2 Axes>"
      ]
     },
     "metadata": {
      "needs_background": "light"
     },
     "output_type": "display_data"
    }
   ],
   "source": [
    "plt.figure(figsize = (10,10))\n",
    "\n",
    "acc = history.history['categorical_accuracy']\n",
    "val_acc = history.history['val_categorical_accuracy']\n",
    "\n",
    "loss = history.history['loss']\n",
    "val_loss = history.history['val_loss']\n",
    "\n",
    "epochs_range = range(num_epochs)\n",
    "\n",
    "plt.figure(figsize=(8, 8))\n",
    "plt.subplot(1, 2, 1)\n",
    "plt.plot(epochs_range, acc, label='Training Accuracy')\n",
    "plt.plot(epochs_range, val_acc, label='Validation Accuracy')\n",
    "plt.legend(loc='lower right')\n",
    "plt.title('Training and Validation Accuracy')\n",
    "\n",
    "plt.subplot(1, 2, 2)\n",
    "plt.plot(epochs_range, loss, label='Training Loss')\n",
    "plt.plot(epochs_range, val_loss, label='Validation Loss')\n",
    "plt.legend(loc='upper right')\n",
    "plt.title('Training and Validation Loss')\n",
    "plt.show()"
   ]
  },
  {
   "cell_type": "markdown",
   "metadata": {},
   "source": [
    "##### the model uses 1,811,077 Trainable params and has  61% as accuracy on train set and 59% on validation set. Model is under performing"
   ]
  },
  {
   "cell_type": "markdown",
   "metadata": {},
   "source": [
    "# Model 6\n"
   ]
  },
  {
   "cell_type": "markdown",
   "metadata": {},
   "source": [
    "#### This is 2D CNN + LSTM architecture to process the video frames. It has 3 Convlolution layers with 32,64 and 128 kernels of (3x3) and a LSTM layer with 128 neurons.Using Image size as 80x80.Increasing epoch to 30"
   ]
  },
  {
   "cell_type": "code",
   "execution_count": 52,
   "metadata": {},
   "outputs": [],
   "source": [
    "from keras.layers import Conv2D,MaxPooling2D\n",
    "\n",
    "model = Sequential()\n",
    "\n",
    "model.add(TimeDistributed(Conv2D(32, (3, 3), padding='same', activation='relu'),\n",
    "            input_shape=(13, 80,80,3)))\n",
    "model.add(TimeDistributed(BatchNormalization()))\n",
    "model.add(TimeDistributed(MaxPooling2D(pool_size=(2,2))))\n",
    "\n",
    "model.add(TimeDistributed(Conv2D(64, (3,3), padding='same', activation='relu')))\n",
    "model.add(TimeDistributed(BatchNormalization()))\n",
    "model.add(TimeDistributed(MaxPooling2D(pool_size=(2,2))))\n",
    "\n",
    "model.add(TimeDistributed(Conv2D(128, (3,3), padding='same', activation='relu')))\n",
    "model.add(TimeDistributed(BatchNormalization()))\n",
    "model.add(TimeDistributed(MaxPooling2D(pool_size=(2,2))))\n",
    "\n",
    "model.add(TimeDistributed(Flatten()))\n",
    "model.add(LSTM(128))\n",
    "model.add(Dropout(0.5))\n",
    "\n",
    "model.add(Dense(64,activation='relu'))\n",
    "model.add(BatchNormalization())\n",
    "model.add(Dropout(0.3))\n",
    "\n",
    "model.add(Dense(5,activation='softmax'))"
   ]
  },
  {
   "cell_type": "code",
   "execution_count": 53,
   "metadata": {},
   "outputs": [
    {
     "name": "stdout",
     "output_type": "stream",
     "text": [
      "Model: \"sequential_6\"\n",
      "_________________________________________________________________\n",
      " Layer (type)                Output Shape              Param #   \n",
      "=================================================================\n",
      " time_distributed_14 (TimeDi  (None, 13, 80, 80, 32)   896       \n",
      " stributed)                                                      \n",
      "                                                                 \n",
      " time_distributed_15 (TimeDi  (None, 13, 80, 80, 32)   128       \n",
      " stributed)                                                      \n",
      "                                                                 \n",
      " time_distributed_16 (TimeDi  (None, 13, 40, 40, 32)   0         \n",
      " stributed)                                                      \n",
      "                                                                 \n",
      " time_distributed_17 (TimeDi  (None, 13, 40, 40, 64)   18496     \n",
      " stributed)                                                      \n",
      "                                                                 \n",
      " time_distributed_18 (TimeDi  (None, 13, 40, 40, 64)   256       \n",
      " stributed)                                                      \n",
      "                                                                 \n",
      " time_distributed_19 (TimeDi  (None, 13, 20, 20, 64)   0         \n",
      " stributed)                                                      \n",
      "                                                                 \n",
      " time_distributed_20 (TimeDi  (None, 13, 20, 20, 128)  73856     \n",
      " stributed)                                                      \n",
      "                                                                 \n",
      " time_distributed_21 (TimeDi  (None, 13, 20, 20, 128)  512       \n",
      " stributed)                                                      \n",
      "                                                                 \n",
      " time_distributed_22 (TimeDi  (None, 13, 10, 10, 128)  0         \n",
      " stributed)                                                      \n",
      "                                                                 \n",
      " time_distributed_23 (TimeDi  (None, 13, 12800)        0         \n",
      " stributed)                                                      \n",
      "                                                                 \n",
      " lstm_2 (LSTM)               (None, 128)               6619648   \n",
      "                                                                 \n",
      " dropout_12 (Dropout)        (None, 128)               0         \n",
      "                                                                 \n",
      " dense_16 (Dense)            (None, 64)                8256      \n",
      "                                                                 \n",
      " batch_normalization_27 (Bat  (None, 64)               256       \n",
      " chNormalization)                                                \n",
      "                                                                 \n",
      " dropout_13 (Dropout)        (None, 64)                0         \n",
      "                                                                 \n",
      " dense_17 (Dense)            (None, 5)                 325       \n",
      "                                                                 \n",
      "=================================================================\n",
      "Total params: 6,722,629\n",
      "Trainable params: 6,722,053\n",
      "Non-trainable params: 576\n",
      "_________________________________________________________________\n",
      "None\n"
     ]
    }
   ],
   "source": [
    "optimiser = 'sgd'\n",
    "model.compile(optimizer=optimiser, loss='categorical_crossentropy', metrics=['categorical_accuracy'])\n",
    "print (model.summary())"
   ]
  },
  {
   "cell_type": "code",
   "execution_count": 54,
   "metadata": {},
   "outputs": [],
   "source": [
    "batch_size = 30\n",
    "num_epochs = 30"
   ]
  },
  {
   "cell_type": "code",
   "execution_count": 55,
   "metadata": {},
   "outputs": [],
   "source": [
    "train_generator = generator(train_path, train_doc, batch_size)\n",
    "val_generator = generator(val_path, val_doc, batch_size)"
   ]
  },
  {
   "cell_type": "code",
   "execution_count": 56,
   "metadata": {},
   "outputs": [],
   "source": [
    "if (num_train_sequences%batch_size) == 0:\n",
    "    steps_per_epoch = int(num_train_sequences/batch_size)\n",
    "else:\n",
    "    steps_per_epoch = (num_train_sequences//batch_size) + 1\n",
    "\n",
    "if (num_val_sequences%batch_size) == 0:\n",
    "    validation_steps = int(num_val_sequences/batch_size)\n",
    "else:\n",
    "    validation_steps = (num_val_sequences//batch_size) + 1"
   ]
  },
  {
   "cell_type": "code",
   "execution_count": 57,
   "metadata": {},
   "outputs": [
    {
     "name": "stdout",
     "output_type": "stream",
     "text": [
      "Source path =  /home/datasets/Project_data/train ; batch size = 30\n",
      "Epoch 1/30\n",
      "23/23 [==============================] - ETA: 0s - loss: 2.2289 - categorical_accuracy: 0.2580Source path =  /home/datasets/Project_data/val ; batch size = 30\n",
      "\n",
      "Epoch 00001: saving model to model_init_2025-03-3116_16_10.181665/model-00001-2.22890-0.25797-1.63288-0.17500.h5\n",
      "23/23 [==============================] - 78s 3s/step - loss: 2.2289 - categorical_accuracy: 0.2580 - val_loss: 1.6329 - val_categorical_accuracy: 0.1750 - lr: 0.0100\n",
      "Epoch 2/30\n",
      "23/23 [==============================] - ETA: 0s - loss: 1.8611 - categorical_accuracy: 0.3333\n",
      "Epoch 00002: saving model to model_init_2025-03-3116_16_10.181665/model-00002-1.86107-0.33333-1.63253-0.16667.h5\n",
      "23/23 [==============================] - 71s 3s/step - loss: 1.8611 - categorical_accuracy: 0.3333 - val_loss: 1.6325 - val_categorical_accuracy: 0.1667 - lr: 0.0100\n",
      "Epoch 3/30\n",
      "23/23 [==============================] - ETA: 0s - loss: 1.5419 - categorical_accuracy: 0.4145\n",
      "Epoch 00003: saving model to model_init_2025-03-3116_16_10.181665/model-00003-1.54187-0.41449-1.68229-0.15833.h5\n",
      "23/23 [==============================] - 73s 3s/step - loss: 1.5419 - categorical_accuracy: 0.4145 - val_loss: 1.6823 - val_categorical_accuracy: 0.1583 - lr: 0.0100\n",
      "Epoch 4/30\n",
      "23/23 [==============================] - ETA: 0s - loss: 1.3980 - categorical_accuracy: 0.4812\n",
      "Epoch 00004: saving model to model_init_2025-03-3116_16_10.181665/model-00004-1.39800-0.48116-1.73774-0.13333.h5\n",
      "23/23 [==============================] - 71s 3s/step - loss: 1.3980 - categorical_accuracy: 0.4812 - val_loss: 1.7377 - val_categorical_accuracy: 0.1333 - lr: 0.0100\n",
      "Epoch 5/30\n",
      "23/23 [==============================] - ETA: 0s - loss: 1.2584 - categorical_accuracy: 0.5116\n",
      "Epoch 00005: saving model to model_init_2025-03-3116_16_10.181665/model-00005-1.25844-0.51159-1.81154-0.23333.h5\n",
      "23/23 [==============================] - 76s 3s/step - loss: 1.2584 - categorical_accuracy: 0.5116 - val_loss: 1.8115 - val_categorical_accuracy: 0.2333 - lr: 0.0100\n",
      "Epoch 6/30\n",
      "23/23 [==============================] - ETA: 0s - loss: 1.1479 - categorical_accuracy: 0.5667\n",
      "Epoch 00006: saving model to model_init_2025-03-3116_16_10.181665/model-00006-1.14789-0.56667-1.83387-0.21667.h5\n",
      "\n",
      "Epoch 00006: ReduceLROnPlateau reducing learning rate to 0.0019999999552965165.\n",
      "23/23 [==============================] - 67s 3s/step - loss: 1.1479 - categorical_accuracy: 0.5667 - val_loss: 1.8339 - val_categorical_accuracy: 0.2167 - lr: 0.0100\n",
      "Epoch 7/30\n",
      "23/23 [==============================] - ETA: 0s - loss: 1.0241 - categorical_accuracy: 0.6000\n",
      "Epoch 00007: saving model to model_init_2025-03-3116_16_10.181665/model-00007-1.02406-0.60000-2.01334-0.14167.h5\n",
      "23/23 [==============================] - 70s 3s/step - loss: 1.0241 - categorical_accuracy: 0.6000 - val_loss: 2.0133 - val_categorical_accuracy: 0.1417 - lr: 0.0020\n",
      "Epoch 8/30\n",
      "23/23 [==============================] - ETA: 0s - loss: 0.9303 - categorical_accuracy: 0.6261\n",
      "Epoch 00008: saving model to model_init_2025-03-3116_16_10.181665/model-00008-0.93029-0.62609-1.93519-0.19167.h5\n",
      "23/23 [==============================] - 71s 3s/step - loss: 0.9303 - categorical_accuracy: 0.6261 - val_loss: 1.9352 - val_categorical_accuracy: 0.1917 - lr: 0.0020\n",
      "Epoch 9/30\n",
      "23/23 [==============================] - ETA: 0s - loss: 0.9755 - categorical_accuracy: 0.6159\n",
      "Epoch 00009: saving model to model_init_2025-03-3116_16_10.181665/model-00009-0.97549-0.61594-1.97485-0.19167.h5\n",
      "23/23 [==============================] - 70s 3s/step - loss: 0.9755 - categorical_accuracy: 0.6159 - val_loss: 1.9748 - val_categorical_accuracy: 0.1917 - lr: 0.0020\n",
      "Epoch 10/30\n",
      "23/23 [==============================] - ETA: 0s - loss: 0.8860 - categorical_accuracy: 0.6565\n",
      "Epoch 00010: saving model to model_init_2025-03-3116_16_10.181665/model-00010-0.88597-0.65652-2.07346-0.19167.h5\n",
      "\n",
      "Epoch 00010: ReduceLROnPlateau reducing learning rate to 0.0003999999724328518.\n",
      "23/23 [==============================] - 71s 3s/step - loss: 0.8860 - categorical_accuracy: 0.6565 - val_loss: 2.0735 - val_categorical_accuracy: 0.1917 - lr: 0.0020\n",
      "Epoch 11/30\n",
      "23/23 [==============================] - ETA: 0s - loss: 0.8222 - categorical_accuracy: 0.6855\n",
      "Epoch 00011: saving model to model_init_2025-03-3116_16_10.181665/model-00011-0.82220-0.68551-2.41194-0.16667.h5\n",
      "23/23 [==============================] - 69s 3s/step - loss: 0.8222 - categorical_accuracy: 0.6855 - val_loss: 2.4119 - val_categorical_accuracy: 0.1667 - lr: 4.0000e-04\n",
      "Epoch 12/30\n",
      "23/23 [==============================] - ETA: 0s - loss: 0.8552 - categorical_accuracy: 0.6623\n",
      "Epoch 00012: saving model to model_init_2025-03-3116_16_10.181665/model-00012-0.85517-0.66232-2.24014-0.20833.h5\n",
      "23/23 [==============================] - 69s 3s/step - loss: 0.8552 - categorical_accuracy: 0.6623 - val_loss: 2.2401 - val_categorical_accuracy: 0.2083 - lr: 4.0000e-04\n",
      "Epoch 13/30\n",
      "23/23 [==============================] - ETA: 0s - loss: 0.8502 - categorical_accuracy: 0.6420\n",
      "Epoch 00013: saving model to model_init_2025-03-3116_16_10.181665/model-00013-0.85023-0.64203-2.20788-0.25000.h5\n",
      "23/23 [==============================] - 71s 3s/step - loss: 0.8502 - categorical_accuracy: 0.6420 - val_loss: 2.2079 - val_categorical_accuracy: 0.2500 - lr: 4.0000e-04\n",
      "Epoch 14/30\n",
      "23/23 [==============================] - ETA: 0s - loss: 0.8215 - categorical_accuracy: 0.6768\n",
      "Epoch 00014: saving model to model_init_2025-03-3116_16_10.181665/model-00014-0.82153-0.67681-2.25261-0.22500.h5\n",
      "\n",
      "Epoch 00014: ReduceLROnPlateau reducing learning rate to 7.999999215826393e-05.\n",
      "23/23 [==============================] - 75s 3s/step - loss: 0.8215 - categorical_accuracy: 0.6768 - val_loss: 2.2526 - val_categorical_accuracy: 0.2250 - lr: 4.0000e-04\n",
      "Epoch 15/30\n",
      "23/23 [==============================] - ETA: 0s - loss: 0.7968 - categorical_accuracy: 0.6826\n",
      "Epoch 00015: saving model to model_init_2025-03-3116_16_10.181665/model-00015-0.79681-0.68261-1.93810-0.27500.h5\n",
      "23/23 [==============================] - 70s 3s/step - loss: 0.7968 - categorical_accuracy: 0.6826 - val_loss: 1.9381 - val_categorical_accuracy: 0.2750 - lr: 8.0000e-05\n",
      "Epoch 16/30\n",
      "23/23 [==============================] - ETA: 0s - loss: 0.8402 - categorical_accuracy: 0.6928\n",
      "Epoch 00016: saving model to model_init_2025-03-3116_16_10.181665/model-00016-0.84021-0.69275-1.87482-0.32500.h5\n",
      "23/23 [==============================] - 70s 3s/step - loss: 0.8402 - categorical_accuracy: 0.6928 - val_loss: 1.8748 - val_categorical_accuracy: 0.3250 - lr: 8.0000e-05\n",
      "Epoch 17/30\n",
      "23/23 [==============================] - ETA: 0s - loss: 0.8617 - categorical_accuracy: 0.6652\n",
      "Epoch 00017: saving model to model_init_2025-03-3116_16_10.181665/model-00017-0.86167-0.66522-1.73097-0.36667.h5\n",
      "23/23 [==============================] - 70s 3s/step - loss: 0.8617 - categorical_accuracy: 0.6652 - val_loss: 1.7310 - val_categorical_accuracy: 0.3667 - lr: 8.0000e-05\n",
      "Epoch 18/30\n",
      "23/23 [==============================] - ETA: 0s - loss: 0.8144 - categorical_accuracy: 0.6754\n",
      "Epoch 00018: saving model to model_init_2025-03-3116_16_10.181665/model-00018-0.81440-0.67536-1.70409-0.42500.h5\n",
      "\n",
      "Epoch 00018: ReduceLROnPlateau reducing learning rate to 1.599999814061448e-05.\n",
      "23/23 [==============================] - 71s 3s/step - loss: 0.8144 - categorical_accuracy: 0.6754 - val_loss: 1.7041 - val_categorical_accuracy: 0.4250 - lr: 8.0000e-05\n",
      "Epoch 19/30\n",
      "23/23 [==============================] - ETA: 0s - loss: 0.7979 - categorical_accuracy: 0.6942\n",
      "Epoch 00019: saving model to model_init_2025-03-3116_16_10.181665/model-00019-0.79788-0.69420-1.64099-0.32500.h5\n",
      "23/23 [==============================] - 71s 3s/step - loss: 0.7979 - categorical_accuracy: 0.6942 - val_loss: 1.6410 - val_categorical_accuracy: 0.3250 - lr: 1.6000e-05\n",
      "Epoch 20/30\n",
      "23/23 [==============================] - ETA: 0s - loss: 0.7863 - categorical_accuracy: 0.6957\n",
      "Epoch 00020: saving model to model_init_2025-03-3116_16_10.181665/model-00020-0.78631-0.69565-1.30878-0.50833.h5\n",
      "23/23 [==============================] - 74s 3s/step - loss: 0.7863 - categorical_accuracy: 0.6957 - val_loss: 1.3088 - val_categorical_accuracy: 0.5083 - lr: 1.6000e-05\n",
      "Epoch 21/30\n",
      "23/23 [==============================] - ETA: 0s - loss: 0.7749 - categorical_accuracy: 0.6986\n",
      "Epoch 00021: saving model to model_init_2025-03-3116_16_10.181665/model-00021-0.77490-0.69855-1.27016-0.49167.h5\n",
      "23/23 [==============================] - 71s 3s/step - loss: 0.7749 - categorical_accuracy: 0.6986 - val_loss: 1.2702 - val_categorical_accuracy: 0.4917 - lr: 1.6000e-05\n",
      "Epoch 22/30\n",
      "23/23 [==============================] - ETA: 0s - loss: 0.7666 - categorical_accuracy: 0.7145\n",
      "Epoch 00022: saving model to model_init_2025-03-3116_16_10.181665/model-00022-0.76658-0.71449-1.15233-0.51667.h5\n",
      "23/23 [==============================] - 74s 3s/step - loss: 0.7666 - categorical_accuracy: 0.7145 - val_loss: 1.1523 - val_categorical_accuracy: 0.5167 - lr: 1.6000e-05\n",
      "Epoch 23/30\n",
      "23/23 [==============================] - ETA: 0s - loss: 0.8167 - categorical_accuracy: 0.6841\n",
      "Epoch 00023: saving model to model_init_2025-03-3116_16_10.181665/model-00023-0.81671-0.68406-1.22739-0.45833.h5\n",
      "23/23 [==============================] - 72s 3s/step - loss: 0.8167 - categorical_accuracy: 0.6841 - val_loss: 1.2274 - val_categorical_accuracy: 0.4583 - lr: 1.6000e-05\n",
      "Epoch 24/30\n",
      "23/23 [==============================] - ETA: 0s - loss: 0.8071 - categorical_accuracy: 0.6957\n",
      "Epoch 00024: saving model to model_init_2025-03-3116_16_10.181665/model-00024-0.80708-0.69565-1.12999-0.53333.h5\n",
      "23/23 [==============================] - 72s 3s/step - loss: 0.8071 - categorical_accuracy: 0.6957 - val_loss: 1.1300 - val_categorical_accuracy: 0.5333 - lr: 1.6000e-05\n",
      "Epoch 25/30\n",
      "23/23 [==============================] - ETA: 0s - loss: 0.8084 - categorical_accuracy: 0.6797\n",
      "Epoch 00025: saving model to model_init_2025-03-3116_16_10.181665/model-00025-0.80839-0.67971-1.12793-0.53333.h5\n",
      "23/23 [==============================] - 72s 3s/step - loss: 0.8084 - categorical_accuracy: 0.6797 - val_loss: 1.1279 - val_categorical_accuracy: 0.5333 - lr: 1.6000e-05\n",
      "Epoch 26/30\n",
      "23/23 [==============================] - ETA: 0s - loss: 0.8220 - categorical_accuracy: 0.6971\n",
      "Epoch 00026: saving model to model_init_2025-03-3116_16_10.181665/model-00026-0.82200-0.69710-1.15093-0.53333.h5\n",
      "23/23 [==============================] - 69s 3s/step - loss: 0.8220 - categorical_accuracy: 0.6971 - val_loss: 1.1509 - val_categorical_accuracy: 0.5333 - lr: 1.6000e-05\n",
      "Epoch 27/30\n",
      "23/23 [==============================] - ETA: 0s - loss: 0.8182 - categorical_accuracy: 0.6841\n",
      "Epoch 00027: saving model to model_init_2025-03-3116_16_10.181665/model-00027-0.81822-0.68406-0.91367-0.60000.h5\n",
      "23/23 [==============================] - 69s 3s/step - loss: 0.8182 - categorical_accuracy: 0.6841 - val_loss: 0.9137 - val_categorical_accuracy: 0.6000 - lr: 1.6000e-05\n",
      "Epoch 28/30\n",
      "23/23 [==============================] - ETA: 0s - loss: 0.7696 - categorical_accuracy: 0.7000\n",
      "Epoch 00028: saving model to model_init_2025-03-3116_16_10.181665/model-00028-0.76963-0.70000-0.99346-0.60833.h5\n",
      "23/23 [==============================] - 71s 3s/step - loss: 0.7696 - categorical_accuracy: 0.7000 - val_loss: 0.9935 - val_categorical_accuracy: 0.6083 - lr: 1.6000e-05\n",
      "Epoch 29/30\n",
      "23/23 [==============================] - ETA: 0s - loss: 0.8151 - categorical_accuracy: 0.6899\n",
      "Epoch 00029: saving model to model_init_2025-03-3116_16_10.181665/model-00029-0.81505-0.68986-0.91611-0.64167.h5\n",
      "23/23 [==============================] - 70s 3s/step - loss: 0.8151 - categorical_accuracy: 0.6899 - val_loss: 0.9161 - val_categorical_accuracy: 0.6417 - lr: 1.6000e-05\n",
      "Epoch 30/30\n",
      "23/23 [==============================] - ETA: 0s - loss: 0.8164 - categorical_accuracy: 0.6667\n",
      "Epoch 00030: saving model to model_init_2025-03-3116_16_10.181665/model-00030-0.81639-0.66667-0.88783-0.67500.h5\n",
      "23/23 [==============================] - 70s 3s/step - loss: 0.8164 - categorical_accuracy: 0.6667 - val_loss: 0.8878 - val_categorical_accuracy: 0.6750 - lr: 1.6000e-05\n"
     ]
    }
   ],
   "source": [
    "history = model.fit(train_generator, steps_per_epoch=steps_per_epoch, epochs=num_epochs, verbose=1, \n",
    "                    callbacks=callbacks_list, validation_data=val_generator, \n",
    "                    validation_steps=validation_steps, class_weight=None, workers=1, initial_epoch=0)"
   ]
  },
  {
   "cell_type": "code",
   "execution_count": 58,
   "metadata": {},
   "outputs": [
    {
     "data": {
      "text/plain": [
       "<Figure size 720x720 with 0 Axes>"
      ]
     },
     "metadata": {},
     "output_type": "display_data"
    },
    {
     "data": {
      "image/png": "[encoded data removed]",
      "text/plain": [
       "<Figure size 576x576 with 2 Axes>"
      ]
     },
     "metadata": {
      "needs_background": "light"
     },
     "output_type": "display_data"
    }
   ],
   "source": [
    "plt.figure(figsize = (10,10))\n",
    "\n",
    "acc = history.history['categorical_accuracy']\n",
    "val_acc = history.history['val_categorical_accuracy']\n",
    "\n",
    "loss = history.history['loss']\n",
    "val_loss = history.history['val_loss']\n",
    "\n",
    "epochs_range = range(num_epochs)\n",
    "\n",
    "plt.figure(figsize=(8, 8))\n",
    "plt.subplot(1, 2, 1)\n",
    "plt.plot(epochs_range, acc, label='Training Accuracy')\n",
    "plt.plot(epochs_range, val_acc, label='Validation Accuracy')\n",
    "plt.legend(loc='lower right')\n",
    "plt.title('Training and Validation Accuracy')\n",
    "\n",
    "plt.subplot(1, 2, 2)\n",
    "plt.plot(epochs_range, loss, label='Training Loss')\n",
    "plt.plot(epochs_range, val_loss, label='Validation Loss')\n",
    "plt.legend(loc='upper right')\n",
    "plt.title('Training and Validation Loss')\n",
    "plt.show()"
   ]
  },
  {
   "cell_type": "markdown",
   "metadata": {},
   "source": [
    "##### the model uses 6,722,053 Trainable params and has  66.7% as accuracy on train set and 67% on validation set.accuracy has slightly improve d but  Model is under performing"
   ]
  },
  {
   "cell_type": "code",
   "execution_count": null,
   "metadata": {},
   "outputs": [],
   "source": [
    "#  Model    Trainable Params  Train accuracy   Val accuracy\n",
    "#   1         2,477,669         90.4%              73%\n",
    "#   2         9,897,669         90.1%              79%\n",
    "#   3         5,549,669         91.9%              77%\n",
    "#   4        13,240,133         84.7%              77%\n",
    "#   5         1,811,077          61%               59%\n",
    "#   6         6,722,053         66.7%              67%"
   ]
  },
  {
   "cell_type": "code",
   "execution_count": null,
   "metadata": {},
   "outputs": [],
   "source": []
  }
 ],
 "metadata": {
  "kernelspec": {
   "display_name": "Python 3 (ipykernel)",
   "language": "python",
   "name": "python3"
  },
  "language_info": {
   "codemirror_mode": {
    "name": "ipython",
    "version": 3
   },
   "file_extension": ".py",
   "mimetype": "text/x-python",
   "name": "python",
   "nbconvert_exporter": "python",
   "pygments_lexer": "ipython3",
   "version": "3.8.10"
  }
 },
 "nbformat": 4,
 "nbformat_minor": 4
}
